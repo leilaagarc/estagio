{
 "cells": [
  {
   "cell_type": "markdown",
   "metadata": {},
   "source": [
    "# Análise da diferença salarial para trabalhadores de TI conforme a raça de cada indivíduo.\n",
    "\n",
    "Aqui é realizado as análises de quantidade de pessoas e diferença salarial entre homens e mulheres\n",
    "com funções trabalhistas de TI distribuídos em qualquer setor produtivo no Brasil, \n",
    "conforme a raça de cada indivíduo em 2021."
   ]
  },
  {
   "cell_type": "markdown",
   "metadata": {},
   "source": [
    "## Etapas iniciais para realização das análises:\n",
    "\n",
    "### Imports necessários para realização dos processamentos e análises:"
   ]
  },
  {
   "cell_type": "code",
   "execution_count": 2,
   "metadata": {},
   "outputs": [],
   "source": [
    "import pandas as pd\n",
    "import matplotlib.pyplot as plt\n",
    "import matplotlib.patches as mpatches\n",
    "import seaborn as sns\n",
    "import numpy as np\n",
    "\n",
    "# Opções gerais necessárias:\n",
    "pd.options.display.float_format = \"{:,.2f}\".format"
   ]
  },
  {
   "cell_type": "markdown",
   "metadata": {},
   "source": [
    "### Variáveis inicias importantes utilizadas durante a realização dos processamentos e análises:"
   ]
  },
  {
   "cell_type": "code",
   "execution_count": 3,
   "metadata": {},
   "outputs": [],
   "source": [
    "# Criando indices dos sexos:\n",
    "sexo = {1: 'Masc.', 2: 'Fem.'}\n",
    "\n",
    "# Criando indices das raças:\n",
    "raca_2021 = {1: 'Indigena', 2: 'Branca', 4: 'Preta', 6: 'Amarela', 8: 'Parda'}\n",
    "\n",
    "# Variável com o nível de confiança a ser considerado e utilizado:\n",
    "nivel_confianca = 0.01\n",
    "\n",
    "# Montagem da paleta de cores utilizadas:\n",
    "pal = sns.color_palette(\"pastel\")\n",
    "\n",
    "# Definição das cores para cada sexo (masc: verde pastel, fem: laranja pastel)\n",
    "color_masc = pal[2]\n",
    "color_fem = pal[1]"
   ]
  },
  {
   "cell_type": "markdown",
   "metadata": {},
   "source": [
    "### Etapa de leitura dos dados das tabelas em CSV:"
   ]
  },
  {
   "cell_type": "code",
   "execution_count": 4,
   "metadata": {},
   "outputs": [],
   "source": [
    "# Leitura da tabela de dados separados por setores da TI:\n",
    "RAIS_GERAL_2021 = pd.read_csv(\"C:/Users/leila/estagio/data/raw/DATA_RAIS_GERAL_2021.csv\", sep = \";\", encoding = 'utf-8', skipinitialspace = True)\n",
    "\n",
    "# Renomeando as colunas:\n",
    "RAIS_GERAL_2021.rename(columns = {'CBO Ocupação 2002':'CBO', 'CNAE 2.0 Classe':'CNAE', 'Escolaridade após 2005':'Escolaridade',\n",
    "                            'Raça Cor':'Raça', 'Vl Remun Dezembro Nom':'Remuneração', 'Sexo Trabalhador':'Sexo'}, inplace = True)"
   ]
  },
  {
   "cell_type": "markdown",
   "metadata": {},
   "source": [
    "### Correção da coluna de raça para utilização correta:"
   ]
  },
  {
   "cell_type": "code",
   "execution_count": 5,
   "metadata": {},
   "outputs": [],
   "source": [
    "RAIS_GERAL_2021 = RAIS_GERAL_2021[RAIS_GERAL_2021[\"Raça\"] != 9]\n",
    "RAIS_GERAL_2021 = RAIS_GERAL_2021[RAIS_GERAL_2021[\"Raça\"] != 99]"
   ]
  },
  {
   "cell_type": "markdown",
   "metadata": {},
   "source": [
    "### Correção da inflação do período analisado até o atual das remunerações pelo fator de correção INPC (IBGE):"
   ]
  },
  {
   "cell_type": "code",
   "execution_count": 6,
   "metadata": {},
   "outputs": [],
   "source": [
    "# Foi utilizado o Índice Nacional de Preços ao Consumidor (INPC - IBGE).\n",
    "\n",
    "# Índice de correção de inflação para o período de 12/2021\n",
    "# até 09/2023 (fator de correção mais recente no último processamento dos dados).\n",
    "fator_correcao_inflacao_2021 = 1.01122970\n",
    "\n",
    "RAIS_GERAL_2021[\"Remuneração\"] = RAIS_GERAL_2021[\"Remuneração\"] * fator_correcao_inflacao_2021"
   ]
  },
  {
   "cell_type": "markdown",
   "metadata": {},
   "source": [
    "### Exibição das tabelas gerais para cada ano:"
   ]
  },
  {
   "cell_type": "code",
   "execution_count": 7,
   "metadata": {},
   "outputs": [
    {
     "data": {
      "text/html": [
       "<div>\n",
       "<style scoped>\n",
       "    .dataframe tbody tr th:only-of-type {\n",
       "        vertical-align: middle;\n",
       "    }\n",
       "\n",
       "    .dataframe tbody tr th {\n",
       "        vertical-align: top;\n",
       "    }\n",
       "\n",
       "    .dataframe thead th {\n",
       "        text-align: right;\n",
       "    }\n",
       "</style>\n",
       "<table border=\"1\" class=\"dataframe\">\n",
       "  <thead>\n",
       "    <tr style=\"text-align: right;\">\n",
       "      <th></th>\n",
       "      <th>UF</th>\n",
       "      <th>CBO</th>\n",
       "      <th>CNAE</th>\n",
       "      <th>Escolaridade</th>\n",
       "      <th>Idade</th>\n",
       "      <th>Raça</th>\n",
       "      <th>Remuneração</th>\n",
       "      <th>Sexo</th>\n",
       "    </tr>\n",
       "  </thead>\n",
       "  <tbody>\n",
       "    <tr>\n",
       "      <th>0</th>\n",
       "      <td>MS</td>\n",
       "      <td>317210</td>\n",
       "      <td>85201</td>\n",
       "      <td>1</td>\n",
       "      <td>21</td>\n",
       "      <td>8</td>\n",
       "      <td>1,372.23</td>\n",
       "      <td>1</td>\n",
       "    </tr>\n",
       "    <tr>\n",
       "      <th>3</th>\n",
       "      <td>MS</td>\n",
       "      <td>212405</td>\n",
       "      <td>72100</td>\n",
       "      <td>1</td>\n",
       "      <td>22</td>\n",
       "      <td>8</td>\n",
       "      <td>4,550.53</td>\n",
       "      <td>1</td>\n",
       "    </tr>\n",
       "    <tr>\n",
       "      <th>4</th>\n",
       "      <td>MS</td>\n",
       "      <td>317205</td>\n",
       "      <td>47717</td>\n",
       "      <td>1</td>\n",
       "      <td>30</td>\n",
       "      <td>8</td>\n",
       "      <td>5,256.67</td>\n",
       "      <td>1</td>\n",
       "    </tr>\n",
       "    <tr>\n",
       "      <th>5</th>\n",
       "      <td>MS</td>\n",
       "      <td>317110</td>\n",
       "      <td>43215</td>\n",
       "      <td>1</td>\n",
       "      <td>41</td>\n",
       "      <td>8</td>\n",
       "      <td>2,538.94</td>\n",
       "      <td>1</td>\n",
       "    </tr>\n",
       "    <tr>\n",
       "      <th>6</th>\n",
       "      <td>MS</td>\n",
       "      <td>212415</td>\n",
       "      <td>47440</td>\n",
       "      <td>3</td>\n",
       "      <td>37</td>\n",
       "      <td>8</td>\n",
       "      <td>5,056.15</td>\n",
       "      <td>1</td>\n",
       "    </tr>\n",
       "  </tbody>\n",
       "</table>\n",
       "</div>"
      ],
      "text/plain": [
       "   UF     CBO   CNAE  Escolaridade  Idade  Raça  Remuneração  Sexo\n",
       "0  MS  317210  85201             1     21     8     1,372.23     1\n",
       "3  MS  212405  72100             1     22     8     4,550.53     1\n",
       "4  MS  317205  47717             1     30     8     5,256.67     1\n",
       "5  MS  317110  43215             1     41     8     2,538.94     1\n",
       "6  MS  212415  47440             3     37     8     5,056.15     1"
      ]
     },
     "execution_count": 7,
     "metadata": {},
     "output_type": "execute_result"
    }
   ],
   "source": [
    "# Exibindo os cinco primeiros dados da tabela:\n",
    "RAIS_GERAL_2021.head()"
   ]
  },
  {
   "cell_type": "markdown",
   "metadata": {},
   "source": [
    "## Análise da frequência (quantidade de pessoas) dos dados entre homens e mulheres distribuídos conforme a raça de cada indivíduo:"
   ]
  },
  {
   "cell_type": "markdown",
   "metadata": {},
   "source": [
    "### Criação das tabelas para relatório e tabela para formação do gráfico:"
   ]
  },
  {
   "cell_type": "code",
   "execution_count": 8,
   "metadata": {},
   "outputs": [
    {
     "data": {
      "text/html": [
       "<div>\n",
       "<style scoped>\n",
       "    .dataframe tbody tr th:only-of-type {\n",
       "        vertical-align: middle;\n",
       "    }\n",
       "\n",
       "    .dataframe tbody tr th {\n",
       "        vertical-align: top;\n",
       "    }\n",
       "\n",
       "    .dataframe thead th {\n",
       "        text-align: right;\n",
       "    }\n",
       "</style>\n",
       "<table border=\"1\" class=\"dataframe\">\n",
       "  <thead>\n",
       "    <tr style=\"text-align: right;\">\n",
       "      <th>Sexo</th>\n",
       "      <th>Fem.</th>\n",
       "      <th>% Fem.</th>\n",
       "      <th>Masc.</th>\n",
       "      <th>% Masc.</th>\n",
       "    </tr>\n",
       "    <tr>\n",
       "      <th>Raça</th>\n",
       "      <th></th>\n",
       "      <th></th>\n",
       "      <th></th>\n",
       "      <th></th>\n",
       "    </tr>\n",
       "  </thead>\n",
       "  <tbody>\n",
       "    <tr>\n",
       "      <th>Amarela</th>\n",
       "      <td>2700</td>\n",
       "      <td>26.99</td>\n",
       "      <td>7302</td>\n",
       "      <td>73.01</td>\n",
       "    </tr>\n",
       "    <tr>\n",
       "      <th>Branca</th>\n",
       "      <td>78581</td>\n",
       "      <td>20.81</td>\n",
       "      <td>299084</td>\n",
       "      <td>79.19</td>\n",
       "    </tr>\n",
       "    <tr>\n",
       "      <th>Indigena</th>\n",
       "      <td>222</td>\n",
       "      <td>20.27</td>\n",
       "      <td>873</td>\n",
       "      <td>79.73</td>\n",
       "    </tr>\n",
       "    <tr>\n",
       "      <th>Parda</th>\n",
       "      <td>28559</td>\n",
       "      <td>19.14</td>\n",
       "      <td>120674</td>\n",
       "      <td>80.86</td>\n",
       "    </tr>\n",
       "    <tr>\n",
       "      <th>Preta</th>\n",
       "      <td>5876</td>\n",
       "      <td>21.39</td>\n",
       "      <td>21593</td>\n",
       "      <td>78.61</td>\n",
       "    </tr>\n",
       "  </tbody>\n",
       "</table>\n",
       "</div>"
      ],
      "text/plain": [
       "Sexo       Fem.  % Fem.   Masc.  % Masc.\n",
       "Raça                                    \n",
       "Amarela    2700   26.99    7302    73.01\n",
       "Branca    78581   20.81  299084    79.19\n",
       "Indigena    222   20.27     873    79.73\n",
       "Parda     28559   19.14  120674    80.86\n",
       "Preta      5876   21.39   21593    78.61"
      ]
     },
     "execution_count": 8,
     "metadata": {},
     "output_type": "execute_result"
    }
   ],
   "source": [
    "# Tabela principal para quantidade:\n",
    "RAIS_GERAL_2021_QNT = pd.crosstab(RAIS_GERAL_2021[\"Raça\"].replace(raca_2021), RAIS_GERAL_2021[\"Sexo\"].replace(sexo))\n",
    "RAIS_GERAL_2021_QNT.insert(1, \"% Fem.\", RAIS_GERAL_2021_QNT[\"Fem.\"] / (RAIS_GERAL_2021_QNT[\"Fem.\"] + RAIS_GERAL_2021_QNT[\"Masc.\"]) * 100)\n",
    "RAIS_GERAL_2021_QNT.insert(3, \"% Masc.\", RAIS_GERAL_2021_QNT[\"Masc.\"] / (RAIS_GERAL_2021_QNT[\"Fem.\"] + RAIS_GERAL_2021_QNT[\"Masc.\"]) * 100)\n",
    "\n",
    "RAIS_GERAL_2021_QNT.head(7)"
   ]
  },
  {
   "cell_type": "code",
   "execution_count": 9,
   "metadata": {},
   "outputs": [],
   "source": [
    "# Tabela para gráfico da quantidade:\n",
    "RAIS_GERAL_2021_QNT[\"Total\"] = RAIS_GERAL_2021_QNT[\"% Masc.\"] + RAIS_GERAL_2021_QNT[\"% Fem.\"]\n",
    "RAIS_GERAL_2021_QNT[\"Ano\"] = \"2021\"\n",
    "\n",
    "# Junção das tabelas anteriores em uma para geração do gráfico:\n",
    "RAIS_GERAL_QNT_GRAF = pd.concat([RAIS_GERAL_2021_QNT]).reset_index()"
   ]
  },
  {
   "cell_type": "markdown",
   "metadata": {},
   "source": [
    "### Criação do gráfico com os dados referentes a quantidade:"
   ]
  },
  {
   "cell_type": "code",
   "execution_count": 11,
   "metadata": {},
   "outputs": [
    {
     "name": "stderr",
     "output_type": "stream",
     "text": [
      "C:\\Users\\leila\\AppData\\Local\\Packages\\PythonSoftwareFoundation.Python.3.11_qbz5n2kfra8p0\\LocalCache\\local-packages\\Python311\\site-packages\\seaborn\\_oldcore.py:1498: FutureWarning: is_categorical_dtype is deprecated and will be removed in a future version. Use isinstance(dtype, pd.CategoricalDtype) instead\n",
      "  if pd.api.types.is_categorical_dtype(vector):\n",
      "C:\\Users\\leila\\AppData\\Local\\Packages\\PythonSoftwareFoundation.Python.3.11_qbz5n2kfra8p0\\LocalCache\\local-packages\\Python311\\site-packages\\seaborn\\_oldcore.py:1498: FutureWarning: is_categorical_dtype is deprecated and will be removed in a future version. Use isinstance(dtype, pd.CategoricalDtype) instead\n",
      "  if pd.api.types.is_categorical_dtype(vector):\n",
      "C:\\Users\\leila\\AppData\\Local\\Packages\\PythonSoftwareFoundation.Python.3.11_qbz5n2kfra8p0\\LocalCache\\local-packages\\Python311\\site-packages\\seaborn\\_oldcore.py:1498: FutureWarning: is_categorical_dtype is deprecated and will be removed in a future version. Use isinstance(dtype, pd.CategoricalDtype) instead\n",
      "  if pd.api.types.is_categorical_dtype(vector):\n",
      "C:\\Users\\leila\\AppData\\Local\\Packages\\PythonSoftwareFoundation.Python.3.11_qbz5n2kfra8p0\\LocalCache\\local-packages\\Python311\\site-packages\\seaborn\\_oldcore.py:1498: FutureWarning: is_categorical_dtype is deprecated and will be removed in a future version. Use isinstance(dtype, pd.CategoricalDtype) instead\n",
      "  if pd.api.types.is_categorical_dtype(vector):\n",
      "C:\\Users\\leila\\AppData\\Local\\Packages\\PythonSoftwareFoundation.Python.3.11_qbz5n2kfra8p0\\LocalCache\\local-packages\\Python311\\site-packages\\seaborn\\_oldcore.py:1498: FutureWarning: is_categorical_dtype is deprecated and will be removed in a future version. Use isinstance(dtype, pd.CategoricalDtype) instead\n",
      "  if pd.api.types.is_categorical_dtype(vector):\n",
      "C:\\Users\\leila\\AppData\\Local\\Packages\\PythonSoftwareFoundation.Python.3.11_qbz5n2kfra8p0\\LocalCache\\local-packages\\Python311\\site-packages\\seaborn\\_oldcore.py:1498: FutureWarning: is_categorical_dtype is deprecated and will be removed in a future version. Use isinstance(dtype, pd.CategoricalDtype) instead\n",
      "  if pd.api.types.is_categorical_dtype(vector):\n",
      "C:\\Users\\leila\\AppData\\Local\\Packages\\PythonSoftwareFoundation.Python.3.11_qbz5n2kfra8p0\\LocalCache\\local-packages\\Python311\\site-packages\\seaborn\\_oldcore.py:1498: FutureWarning: is_categorical_dtype is deprecated and will be removed in a future version. Use isinstance(dtype, pd.CategoricalDtype) instead\n",
      "  if pd.api.types.is_categorical_dtype(vector):\n",
      "C:\\Users\\leila\\AppData\\Local\\Packages\\PythonSoftwareFoundation.Python.3.11_qbz5n2kfra8p0\\LocalCache\\local-packages\\Python311\\site-packages\\seaborn\\_oldcore.py:1498: FutureWarning: is_categorical_dtype is deprecated and will be removed in a future version. Use isinstance(dtype, pd.CategoricalDtype) instead\n",
      "  if pd.api.types.is_categorical_dtype(vector):\n"
     ]
    },
    {
     "data": {
      "image/png": "[encoded data removed]",
      "text/plain": [
       "<Figure size 1200x800 with 1 Axes>"
      ]
     },
     "metadata": {},
     "output_type": "display_data"
    }
   ],
   "source": [
    "# Montagem inicial da imagem do gráfico:\n",
    "plt.figure(figsize=(12, 8))\n",
    "\n",
    "# Configuração da grid da imagem:\n",
    "sns.set(style=\"whitegrid\")\n",
    "\n",
    "# Montagem da paleta de cores utilizadas:\n",
    "pal = sns.color_palette(\"pastel\")\n",
    "\n",
    "# Criação da primeira barra, referente ao total de 100% que fica atrás pela próxima barra:\n",
    "bar1 = sns.barplot(x=\"Raça\", y=\"Total\", hue=\"Ano\", data=RAIS_GERAL_QNT_GRAF, palette={\"2021\": color_masc})\n",
    "\n",
    "# Captura da quantidade de barras existentes até o momento:\n",
    "patches = bar1.patches\n",
    "\n",
    "# Escrita da porcentagem para cada barra existente até o momento (porcentagem dos homens):\n",
    "for i in range(len(patches)):\n",
    "    x = patches[i].get_x() + patches[i].get_width()/2\n",
    "    y = patches[i].get_height()/2\n",
    "    bar1.annotate('{:.1f}%'.format(RAIS_GERAL_QNT_GRAF[\"% Masc.\"][i]), (x, y), ha='center')\n",
    "   \n",
    "\n",
    "# Criação da segunda barra, referente a porcentagem das mulheres:\n",
    "bar2 = sns.barplot(x=\"Raça\", y=\"% Fem.\", hue=\"Ano\", data=RAIS_GERAL_QNT_GRAF, palette={\"2021\": color_fem})\n",
    "\n",
    "# Finalização de configurações de exibição do gráfico:\n",
    "top_bar = mpatches.Patch(label='% Mulheres', color=color_fem)\n",
    "bottom_bar = mpatches.Patch(label='% Homens', color=color_masc)\n",
    "plt.legend(handles=[top_bar, bottom_bar], loc='center', bbox_to_anchor=(.45, .8, .1, .1))\n",
    "\n",
    "# Adicionar rótulos com as porcentagens femininas nas barras\n",
    "for i in bar2.patches:\n",
    "    width = i.get_width()\n",
    "    height = i.get_height()\n",
    "    x, y = i.get_xy()\n",
    "    if height < 100.0:\n",
    "        bar2.annotate(f'{height:.1f}%', (x + width/2, y + height/2), ha='center')\n",
    "\n",
    "plt.ylabel('')  # Remover o título do eixo y\n",
    "\n",
    "plt.savefig(\"C:/Users/leila/estagio/data/figures/svg/qnt_sexo_raca.svg\")"
   ]
  },
  {
   "cell_type": "markdown",
   "metadata": {},
   "source": [
    "## Análise das médias salariais e diferenças:\n",
    "\n",
    "### Distribuição da remuneração para cada sexo cruzado pela raça:"
   ]
  },
  {
   "cell_type": "code",
   "execution_count": 10,
   "metadata": {},
   "outputs": [
    {
     "data": {
      "text/html": [
       "<div>\n",
       "<style scoped>\n",
       "    .dataframe tbody tr th:only-of-type {\n",
       "        vertical-align: middle;\n",
       "    }\n",
       "\n",
       "    .dataframe tbody tr th {\n",
       "        vertical-align: top;\n",
       "    }\n",
       "\n",
       "    .dataframe thead th {\n",
       "        text-align: right;\n",
       "    }\n",
       "</style>\n",
       "<table border=\"1\" class=\"dataframe\">\n",
       "  <thead>\n",
       "    <tr style=\"text-align: right;\">\n",
       "      <th></th>\n",
       "      <th>UF</th>\n",
       "      <th>CBO</th>\n",
       "      <th>CNAE</th>\n",
       "      <th>Escolaridade</th>\n",
       "      <th>Idade</th>\n",
       "      <th>Raça</th>\n",
       "      <th>Remuneração</th>\n",
       "      <th>Sexo</th>\n",
       "    </tr>\n",
       "  </thead>\n",
       "  <tbody>\n",
       "    <tr>\n",
       "      <th>0</th>\n",
       "      <td>MS</td>\n",
       "      <td>317210</td>\n",
       "      <td>85201</td>\n",
       "      <td>1</td>\n",
       "      <td>21</td>\n",
       "      <td>Parda</td>\n",
       "      <td>1,372.23</td>\n",
       "      <td>Masc.</td>\n",
       "    </tr>\n",
       "    <tr>\n",
       "      <th>3</th>\n",
       "      <td>MS</td>\n",
       "      <td>212405</td>\n",
       "      <td>72100</td>\n",
       "      <td>1</td>\n",
       "      <td>22</td>\n",
       "      <td>Parda</td>\n",
       "      <td>4,550.53</td>\n",
       "      <td>Masc.</td>\n",
       "    </tr>\n",
       "    <tr>\n",
       "      <th>4</th>\n",
       "      <td>MS</td>\n",
       "      <td>317205</td>\n",
       "      <td>47717</td>\n",
       "      <td>1</td>\n",
       "      <td>30</td>\n",
       "      <td>Parda</td>\n",
       "      <td>5,256.67</td>\n",
       "      <td>Masc.</td>\n",
       "    </tr>\n",
       "    <tr>\n",
       "      <th>5</th>\n",
       "      <td>MS</td>\n",
       "      <td>317110</td>\n",
       "      <td>43215</td>\n",
       "      <td>1</td>\n",
       "      <td>41</td>\n",
       "      <td>Parda</td>\n",
       "      <td>2,538.94</td>\n",
       "      <td>Masc.</td>\n",
       "    </tr>\n",
       "    <tr>\n",
       "      <th>6</th>\n",
       "      <td>MS</td>\n",
       "      <td>212415</td>\n",
       "      <td>47440</td>\n",
       "      <td>3</td>\n",
       "      <td>37</td>\n",
       "      <td>Parda</td>\n",
       "      <td>5,056.15</td>\n",
       "      <td>Masc.</td>\n",
       "    </tr>\n",
       "    <tr>\n",
       "      <th>...</th>\n",
       "      <td>...</td>\n",
       "      <td>...</td>\n",
       "      <td>...</td>\n",
       "      <td>...</td>\n",
       "      <td>...</td>\n",
       "      <td>...</td>\n",
       "      <td>...</td>\n",
       "      <td>...</td>\n",
       "    </tr>\n",
       "    <tr>\n",
       "      <th>680327</th>\n",
       "      <td>RS</td>\n",
       "      <td>212420</td>\n",
       "      <td>62040</td>\n",
       "      <td>11</td>\n",
       "      <td>28</td>\n",
       "      <td>Branca</td>\n",
       "      <td>14,102.01</td>\n",
       "      <td>Fem.</td>\n",
       "    </tr>\n",
       "    <tr>\n",
       "      <th>680328</th>\n",
       "      <td>RS</td>\n",
       "      <td>212420</td>\n",
       "      <td>62040</td>\n",
       "      <td>11</td>\n",
       "      <td>39</td>\n",
       "      <td>Branca</td>\n",
       "      <td>10,972.72</td>\n",
       "      <td>Fem.</td>\n",
       "    </tr>\n",
       "    <tr>\n",
       "      <th>680329</th>\n",
       "      <td>RS</td>\n",
       "      <td>212215</td>\n",
       "      <td>62015</td>\n",
       "      <td>11</td>\n",
       "      <td>37</td>\n",
       "      <td>Branca</td>\n",
       "      <td>5,056.15</td>\n",
       "      <td>Fem.</td>\n",
       "    </tr>\n",
       "    <tr>\n",
       "      <th>680330</th>\n",
       "      <td>RS</td>\n",
       "      <td>212410</td>\n",
       "      <td>62023</td>\n",
       "      <td>11</td>\n",
       "      <td>41</td>\n",
       "      <td>Parda</td>\n",
       "      <td>4,664.91</td>\n",
       "      <td>Fem.</td>\n",
       "    </tr>\n",
       "    <tr>\n",
       "      <th>680331</th>\n",
       "      <td>RS</td>\n",
       "      <td>212410</td>\n",
       "      <td>62023</td>\n",
       "      <td>11</td>\n",
       "      <td>40</td>\n",
       "      <td>Branca</td>\n",
       "      <td>5,059.18</td>\n",
       "      <td>Fem.</td>\n",
       "    </tr>\n",
       "  </tbody>\n",
       "</table>\n",
       "<p>565464 rows × 8 columns</p>\n",
       "</div>"
      ],
      "text/plain": [
       "        UF     CBO   CNAE  Escolaridade  Idade    Raça  Remuneração   Sexo\n",
       "0       MS  317210  85201             1     21   Parda     1,372.23  Masc.\n",
       "3       MS  212405  72100             1     22   Parda     4,550.53  Masc.\n",
       "4       MS  317205  47717             1     30   Parda     5,256.67  Masc.\n",
       "5       MS  317110  43215             1     41   Parda     2,538.94  Masc.\n",
       "6       MS  212415  47440             3     37   Parda     5,056.15  Masc.\n",
       "...     ..     ...    ...           ...    ...     ...          ...    ...\n",
       "680327  RS  212420  62040            11     28  Branca    14,102.01   Fem.\n",
       "680328  RS  212420  62040            11     39  Branca    10,972.72   Fem.\n",
       "680329  RS  212215  62015            11     37  Branca     5,056.15   Fem.\n",
       "680330  RS  212410  62023            11     41   Parda     4,664.91   Fem.\n",
       "680331  RS  212410  62023            11     40  Branca     5,059.18   Fem.\n",
       "\n",
       "[565464 rows x 8 columns]"
      ]
     },
     "execution_count": 10,
     "metadata": {},
     "output_type": "execute_result"
    }
   ],
   "source": [
    "# Criação da tabela para o boxplot \n",
    "RAIS_GERAL_2021_BOX = RAIS_GERAL_2021\n",
    "RAIS_GERAL_2021_BOX[\"Sexo\"].replace(sexo, inplace = True)\n",
    "RAIS_GERAL_2021_BOX[\"Raça\"].replace(raca_2021, inplace = True)\n",
    "\n",
    "RAIS_GERAL_2021_BOX"
   ]
  },
  {
   "cell_type": "code",
   "execution_count": 11,
   "metadata": {},
   "outputs": [
    {
     "name": "stderr",
     "output_type": "stream",
     "text": [
      "C:\\Users\\leila\\AppData\\Local\\Packages\\PythonSoftwareFoundation.Python.3.11_qbz5n2kfra8p0\\LocalCache\\local-packages\\Python311\\site-packages\\seaborn\\_oldcore.py:1498: FutureWarning: is_categorical_dtype is deprecated and will be removed in a future version. Use isinstance(dtype, pd.CategoricalDtype) instead\n",
      "  if pd.api.types.is_categorical_dtype(vector):\n",
      "C:\\Users\\leila\\AppData\\Local\\Packages\\PythonSoftwareFoundation.Python.3.11_qbz5n2kfra8p0\\LocalCache\\local-packages\\Python311\\site-packages\\seaborn\\_oldcore.py:1498: FutureWarning: is_categorical_dtype is deprecated and will be removed in a future version. Use isinstance(dtype, pd.CategoricalDtype) instead\n",
      "  if pd.api.types.is_categorical_dtype(vector):\n",
      "C:\\Users\\leila\\AppData\\Local\\Packages\\PythonSoftwareFoundation.Python.3.11_qbz5n2kfra8p0\\LocalCache\\local-packages\\Python311\\site-packages\\seaborn\\_oldcore.py:1498: FutureWarning: is_categorical_dtype is deprecated and will be removed in a future version. Use isinstance(dtype, pd.CategoricalDtype) instead\n",
      "  if pd.api.types.is_categorical_dtype(vector):\n"
     ]
    },
    {
     "data": {
      "image/png": "[encoded data removed]",
      "text/plain": [
       "<Figure size 1400x800 with 1 Axes>"
      ]
     },
     "metadata": {},
     "output_type": "display_data"
    }
   ],
   "source": [
    "# Criação do boxplot:\n",
    "box = sns.boxplot(x = 'Remuneração', y = 'Raça', hue = 'Sexo', data = RAIS_GERAL_2021_BOX, orient = 'h', showmeans=True, meanprops={\"marker\":\"o\",\n",
    "                       \"markerfacecolor\":\"white\", \"markeredgecolor\":\"black\", \"markersize\":\"5\"}, order = raca_2021.values(),\n",
    "                       palette = {\"Masc.\": color_masc, \"Fem.\": color_fem})\n",
    "box.figure.set_size_inches(14, 8)\n",
    "box.figure.savefig(\"C:/Users/leila/estagio/data/figures/png/boxplot_sexo_raca_2021.png\", dpi = 300)"
   ]
  },
  {
   "cell_type": "markdown",
   "metadata": {},
   "source": [
    "### Criação das tabelas com as diferenças salarias e da tabela para geração do gráfico:"
   ]
  },
  {
   "cell_type": "code",
   "execution_count": 12,
   "metadata": {},
   "outputs": [
    {
     "data": {
      "text/html": [
       "<div>\n",
       "<style scoped>\n",
       "    .dataframe tbody tr th:only-of-type {\n",
       "        vertical-align: middle;\n",
       "    }\n",
       "\n",
       "    .dataframe tbody tr th {\n",
       "        vertical-align: top;\n",
       "    }\n",
       "\n",
       "    .dataframe thead th {\n",
       "        text-align: right;\n",
       "    }\n",
       "</style>\n",
       "<table border=\"1\" class=\"dataframe\">\n",
       "  <thead>\n",
       "    <tr style=\"text-align: right;\">\n",
       "      <th>Sexo</th>\n",
       "      <th>Fem.</th>\n",
       "      <th>Masc.</th>\n",
       "      <th>Diferença Salarial</th>\n",
       "    </tr>\n",
       "    <tr>\n",
       "      <th>Raça</th>\n",
       "      <th></th>\n",
       "      <th></th>\n",
       "      <th></th>\n",
       "    </tr>\n",
       "  </thead>\n",
       "  <tbody>\n",
       "    <tr>\n",
       "      <th>Amarela</th>\n",
       "      <td>10,458.06</td>\n",
       "      <td>10,981.41</td>\n",
       "      <td>-4.77</td>\n",
       "    </tr>\n",
       "    <tr>\n",
       "      <th>Branca</th>\n",
       "      <td>7,574.57</td>\n",
       "      <td>8,607.56</td>\n",
       "      <td>-12.00</td>\n",
       "    </tr>\n",
       "    <tr>\n",
       "      <th>Indigena</th>\n",
       "      <td>7,656.10</td>\n",
       "      <td>8,304.28</td>\n",
       "      <td>-7.81</td>\n",
       "    </tr>\n",
       "    <tr>\n",
       "      <th>Parda</th>\n",
       "      <td>5,287.46</td>\n",
       "      <td>6,370.39</td>\n",
       "      <td>-17.00</td>\n",
       "    </tr>\n",
       "    <tr>\n",
       "      <th>Preta</th>\n",
       "      <td>5,200.74</td>\n",
       "      <td>6,441.48</td>\n",
       "      <td>-19.26</td>\n",
       "    </tr>\n",
       "  </tbody>\n",
       "</table>\n",
       "</div>"
      ],
      "text/plain": [
       "Sexo          Fem.     Masc.  Diferença Salarial\n",
       "Raça                                            \n",
       "Amarela  10,458.06 10,981.41               -4.77\n",
       "Branca    7,574.57  8,607.56              -12.00\n",
       "Indigena  7,656.10  8,304.28               -7.81\n",
       "Parda     5,287.46  6,370.39              -17.00\n",
       "Preta     5,200.74  6,441.48              -19.26"
      ]
     },
     "execution_count": 12,
     "metadata": {},
     "output_type": "execute_result"
    }
   ],
   "source": [
    "# Tabela principal para média e diferença salarial em 2009:\n",
    "RAIS_GERAL_2021_MEDIA = pd.crosstab(RAIS_GERAL_2021[\"Raça\"].replace(raca_2021), RAIS_GERAL_2021[\"Sexo\"].replace(sexo), values = RAIS_GERAL_2021.Remuneração, aggfunc = 'mean')\n",
    "RAIS_GERAL_2021_MEDIA.insert(2, \"Diferença Salarial\", ((RAIS_GERAL_2021_MEDIA[\"Fem.\"] - RAIS_GERAL_2021_MEDIA[\"Masc.\"]) / RAIS_GERAL_2021_MEDIA[\"Masc.\"]) * 100)\n",
    "\n",
    "RAIS_GERAL_2021_MEDIA.head(7)"
   ]
  },
  {
   "cell_type": "code",
   "execution_count": 13,
   "metadata": {},
   "outputs": [],
   "source": [
    "RAIS_GERAL_2021_MEDIA[\"Ano\"] = \"2021\"\n",
    "\n",
    "RAIS_GERAL_MEDIA_GRAF = pd.concat([RAIS_GERAL_2021_MEDIA]).reset_index()"
   ]
  },
  {
   "cell_type": "code",
   "execution_count": 14,
   "metadata": {},
   "outputs": [
    {
     "name": "stderr",
     "output_type": "stream",
     "text": [
      "C:\\Users\\leila\\AppData\\Local\\Packages\\PythonSoftwareFoundation.Python.3.11_qbz5n2kfra8p0\\LocalCache\\local-packages\\Python311\\site-packages\\seaborn\\_oldcore.py:1498: FutureWarning: is_categorical_dtype is deprecated and will be removed in a future version. Use isinstance(dtype, pd.CategoricalDtype) instead\n",
      "  if pd.api.types.is_categorical_dtype(vector):\n",
      "C:\\Users\\leila\\AppData\\Local\\Packages\\PythonSoftwareFoundation.Python.3.11_qbz5n2kfra8p0\\LocalCache\\local-packages\\Python311\\site-packages\\seaborn\\_oldcore.py:1498: FutureWarning: is_categorical_dtype is deprecated and will be removed in a future version. Use isinstance(dtype, pd.CategoricalDtype) instead\n",
      "  if pd.api.types.is_categorical_dtype(vector):\n",
      "C:\\Users\\leila\\AppData\\Local\\Packages\\PythonSoftwareFoundation.Python.3.11_qbz5n2kfra8p0\\LocalCache\\local-packages\\Python311\\site-packages\\seaborn\\_oldcore.py:1498: FutureWarning: is_categorical_dtype is deprecated and will be removed in a future version. Use isinstance(dtype, pd.CategoricalDtype) instead\n",
      "  if pd.api.types.is_categorical_dtype(vector):\n",
      "C:\\Users\\leila\\AppData\\Local\\Packages\\PythonSoftwareFoundation.Python.3.11_qbz5n2kfra8p0\\LocalCache\\local-packages\\Python311\\site-packages\\seaborn\\_oldcore.py:1498: FutureWarning: is_categorical_dtype is deprecated and will be removed in a future version. Use isinstance(dtype, pd.CategoricalDtype) instead\n",
      "  if pd.api.types.is_categorical_dtype(vector):\n"
     ]
    },
    {
     "data": {
      "image/png": "[encoded data removed]",
      "text/plain": [
       "<Figure size 1300x1000 with 1 Axes>"
      ]
     },
     "metadata": {},
     "output_type": "display_data"
    }
   ],
   "source": [
    "# Criação do gráfico inicial:\n",
    "plt.figure(figsize = (13, 10))\n",
    "\n",
    "# Configuração do grid do gráfico:\n",
    "sns.set(style = \"whitegrid\")\n",
    "\n",
    "# Criação da barra referente as diferenças salarias:\n",
    "bar = sns.barplot(x = \"Raça\", y = \"Diferença Salarial\", hue = \"Ano\", data = RAIS_GERAL_MEDIA_GRAF, palette = {\"2021\": color_fem,\"2021\": color_masc})\n",
    "\n",
    "# Captura da quantidade de barras existentes:\n",
    "patches = bar.patches\n",
    "\n",
    "# Preenchimento das porcentagens das diferenças salariais em cada barra:\n",
    "for i in range(len(patches)):\n",
    "    x = patches[i].get_x() + patches[i].get_width()/2\n",
    "    y = patches[i].get_height()/2\n",
    "    bar.annotate('{:.1f}%'.format(RAIS_GERAL_MEDIA_GRAF[\"Diferença Salarial\"][i]), (x, y), ha='center')\n",
    "\n",
    "plt.savefig(\"C:/Users/leila/estagio/data/figures/svg/dif_salarial_sexo_raca_media.svg\")"
   ]
  },
  {
   "cell_type": "code",
   "execution_count": 15,
   "metadata": {},
   "outputs": [
    {
     "data": {
      "text/html": [
       "<div>\n",
       "<style scoped>\n",
       "    .dataframe tbody tr th:only-of-type {\n",
       "        vertical-align: middle;\n",
       "    }\n",
       "\n",
       "    .dataframe tbody tr th {\n",
       "        vertical-align: top;\n",
       "    }\n",
       "\n",
       "    .dataframe thead th {\n",
       "        text-align: right;\n",
       "    }\n",
       "</style>\n",
       "<table border=\"1\" class=\"dataframe\">\n",
       "  <thead>\n",
       "    <tr style=\"text-align: right;\">\n",
       "      <th>Sexo</th>\n",
       "      <th>Fem.</th>\n",
       "      <th>Masc.</th>\n",
       "      <th>Diferença Salarial</th>\n",
       "    </tr>\n",
       "    <tr>\n",
       "      <th>Raça</th>\n",
       "      <th></th>\n",
       "      <th></th>\n",
       "      <th></th>\n",
       "    </tr>\n",
       "  </thead>\n",
       "  <tbody>\n",
       "    <tr>\n",
       "      <th>Amarela</th>\n",
       "      <td>8,540.83</td>\n",
       "      <td>9,135.10</td>\n",
       "      <td>-6.51</td>\n",
       "    </tr>\n",
       "    <tr>\n",
       "      <th>Branca</th>\n",
       "      <td>5,561.76</td>\n",
       "      <td>6,469.50</td>\n",
       "      <td>-14.03</td>\n",
       "    </tr>\n",
       "    <tr>\n",
       "      <th>Indigena</th>\n",
       "      <td>6,845.78</td>\n",
       "      <td>6,525.49</td>\n",
       "      <td>4.91</td>\n",
       "    </tr>\n",
       "    <tr>\n",
       "      <th>Parda</th>\n",
       "      <td>3,640.83</td>\n",
       "      <td>4,544.57</td>\n",
       "      <td>-19.89</td>\n",
       "    </tr>\n",
       "    <tr>\n",
       "      <th>Preta</th>\n",
       "      <td>3,807.39</td>\n",
       "      <td>4,746.78</td>\n",
       "      <td>-19.79</td>\n",
       "    </tr>\n",
       "  </tbody>\n",
       "</table>\n",
       "</div>"
      ],
      "text/plain": [
       "Sexo         Fem.    Masc.  Diferença Salarial\n",
       "Raça                                          \n",
       "Amarela  8,540.83 9,135.10               -6.51\n",
       "Branca   5,561.76 6,469.50              -14.03\n",
       "Indigena 6,845.78 6,525.49                4.91\n",
       "Parda    3,640.83 4,544.57              -19.89\n",
       "Preta    3,807.39 4,746.78              -19.79"
      ]
     },
     "execution_count": 15,
     "metadata": {},
     "output_type": "execute_result"
    }
   ],
   "source": [
    "# Tabela principal para mediana e diferença salarial em 2009:\n",
    "RAIS_GERAL_2021_MEDIANA = pd.crosstab(RAIS_GERAL_2021[\"Raça\"].replace(raca_2021), RAIS_GERAL_2021[\"Sexo\"].replace(sexo), values = RAIS_GERAL_2021.Remuneração, aggfunc = 'median')\n",
    "RAIS_GERAL_2021_MEDIANA.insert(2, \"Diferença Salarial\", ((RAIS_GERAL_2021_MEDIANA[\"Fem.\"] - RAIS_GERAL_2021_MEDIANA[\"Masc.\"]) / RAIS_GERAL_2021_MEDIANA[\"Masc.\"]) * 100)\n",
    "\n",
    "RAIS_GERAL_2021_MEDIANA.head(7)"
   ]
  },
  {
   "cell_type": "code",
   "execution_count": 16,
   "metadata": {},
   "outputs": [],
   "source": [
    "RAIS_GERAL_2021_MEDIANA[\"Ano\"] = \"2021\"\n",
    "\n",
    "RAIS_GERAL_MEDIANA_GRAF = pd.concat([RAIS_GERAL_2021_MEDIANA]).reset_index()"
   ]
  },
  {
   "cell_type": "code",
   "execution_count": 17,
   "metadata": {},
   "outputs": [
    {
     "name": "stderr",
     "output_type": "stream",
     "text": [
      "C:\\Users\\leila\\AppData\\Local\\Packages\\PythonSoftwareFoundation.Python.3.11_qbz5n2kfra8p0\\LocalCache\\local-packages\\Python311\\site-packages\\seaborn\\_oldcore.py:1498: FutureWarning: is_categorical_dtype is deprecated and will be removed in a future version. Use isinstance(dtype, pd.CategoricalDtype) instead\n",
      "  if pd.api.types.is_categorical_dtype(vector):\n",
      "C:\\Users\\leila\\AppData\\Local\\Packages\\PythonSoftwareFoundation.Python.3.11_qbz5n2kfra8p0\\LocalCache\\local-packages\\Python311\\site-packages\\seaborn\\_oldcore.py:1498: FutureWarning: is_categorical_dtype is deprecated and will be removed in a future version. Use isinstance(dtype, pd.CategoricalDtype) instead\n",
      "  if pd.api.types.is_categorical_dtype(vector):\n",
      "C:\\Users\\leila\\AppData\\Local\\Packages\\PythonSoftwareFoundation.Python.3.11_qbz5n2kfra8p0\\LocalCache\\local-packages\\Python311\\site-packages\\seaborn\\_oldcore.py:1498: FutureWarning: is_categorical_dtype is deprecated and will be removed in a future version. Use isinstance(dtype, pd.CategoricalDtype) instead\n",
      "  if pd.api.types.is_categorical_dtype(vector):\n",
      "C:\\Users\\leila\\AppData\\Local\\Packages\\PythonSoftwareFoundation.Python.3.11_qbz5n2kfra8p0\\LocalCache\\local-packages\\Python311\\site-packages\\seaborn\\_oldcore.py:1498: FutureWarning: is_categorical_dtype is deprecated and will be removed in a future version. Use isinstance(dtype, pd.CategoricalDtype) instead\n",
      "  if pd.api.types.is_categorical_dtype(vector):\n"
     ]
    },
    {
     "data": {
      "image/png": "[encoded data removed]",
      "text/plain": [
       "<Figure size 1300x1000 with 1 Axes>"
      ]
     },
     "metadata": {},
     "output_type": "display_data"
    }
   ],
   "source": [
    "# Criação do gráfico inicial:\n",
    "plt.figure(figsize = (13, 10))\n",
    "\n",
    "# Configuração do grid do gráfico:\n",
    "sns.set(style = \"whitegrid\")\n",
    "\n",
    "# Criação da barra referente as diferenças salarias:\n",
    "bar = sns.barplot(x = \"Raça\", y = \"Diferença Salarial\", hue = \"Ano\", data = RAIS_GERAL_MEDIANA_GRAF, palette = {\"2021\": color_fem,\"2021\": color_masc})\n",
    "\n",
    "# Captura da quantidade de barras existentes:\n",
    "patches = bar.patches\n",
    "\n",
    "# Preenchimento das porcentagens das diferenças salariais em cada barra:\n",
    "for i in range(len(patches)):\n",
    "    x = patches[i].get_x() + patches[i].get_width()/2\n",
    "    y = patches[i].get_height()/2\n",
    "    bar.annotate('{:.1f}%'.format(RAIS_GERAL_MEDIANA_GRAF[\"Diferença Salarial\"][i]), (x, y), ha='center')\n",
    "\n",
    "plt.savefig(\"C:/Users/leila/estagio/data/figures/svg/dif_salarial_sexo_raca_mediana.svg\")"
   ]
  },
  {
   "cell_type": "markdown",
   "metadata": {},
   "source": [
    "### Teste de hipótese para cada grupo de médias por CBOs: RESOLVER"
   ]
  },
  {
   "cell_type": "code",
   "execution_count": 18,
   "metadata": {},
   "outputs": [],
   "source": [
    "def teste_hipotese(first_data, second_data, confidence_interval):\n",
    "    from scipy.stats import mannwhitneyu \n",
    "    \n",
    "    stat, p_valor = mannwhitneyu(first_data, second_data, alternative = 'less')\n",
    "    \n",
    "    if p_valor <= confidence_interval:\n",
    "        return stat, p_valor, 'Medianas estatisticamente diferentes'\n",
    "    else:\n",
    "        return stat, p_valor, 'Medianas estatisticamente iguais'"
   ]
  },
  {
   "cell_type": "code",
   "execution_count": 19,
   "metadata": {},
   "outputs": [
    {
     "data": {
      "text/html": [
       "<div>\n",
       "<style scoped>\n",
       "    .dataframe tbody tr th:only-of-type {\n",
       "        vertical-align: middle;\n",
       "    }\n",
       "\n",
       "    .dataframe tbody tr th {\n",
       "        vertical-align: top;\n",
       "    }\n",
       "\n",
       "    .dataframe thead th {\n",
       "        text-align: right;\n",
       "    }\n",
       "</style>\n",
       "<table border=\"1\" class=\"dataframe\">\n",
       "  <thead>\n",
       "    <tr style=\"text-align: right;\">\n",
       "      <th></th>\n",
       "      <th>Fem.</th>\n",
       "      <th>Masc.</th>\n",
       "      <th>Estat. Mann-Whitney</th>\n",
       "      <th>pValor</th>\n",
       "      <th>Resultado Estat.</th>\n",
       "    </tr>\n",
       "  </thead>\n",
       "  <tbody>\n",
       "    <tr>\n",
       "      <th>Amarela</th>\n",
       "      <td>10,458.06</td>\n",
       "      <td>10,981.41</td>\n",
       "      <td>9362086.5</td>\n",
       "      <td>0.01 &gt; 0.00006...</td>\n",
       "      <td>Medianas estatisticamente diferentes</td>\n",
       "    </tr>\n",
       "    <tr>\n",
       "      <th>Branca</th>\n",
       "      <td>7,574.57</td>\n",
       "      <td>8,607.56</td>\n",
       "      <td>10670870643.0</td>\n",
       "      <td>0.01 &gt; 0.00000...</td>\n",
       "      <td>Medianas estatisticamente diferentes</td>\n",
       "    </tr>\n",
       "    <tr>\n",
       "      <th>Indigena</th>\n",
       "      <td>7,656.10</td>\n",
       "      <td>8,304.28</td>\n",
       "      <td>98931.5</td>\n",
       "      <td>0.01 &gt; 0.68519...</td>\n",
       "      <td>Medianas estatisticamente iguais</td>\n",
       "    </tr>\n",
       "    <tr>\n",
       "      <th>Parda</th>\n",
       "      <td>5,287.46</td>\n",
       "      <td>6,370.39</td>\n",
       "      <td>1488936814.0</td>\n",
       "      <td>0.01 &gt; 0.00000...</td>\n",
       "      <td>Medianas estatisticamente diferentes</td>\n",
       "    </tr>\n",
       "    <tr>\n",
       "      <th>Preta</th>\n",
       "      <td>5,200.74</td>\n",
       "      <td>6,441.48</td>\n",
       "      <td>53678310.0</td>\n",
       "      <td>0.01 &gt; 0.00000...</td>\n",
       "      <td>Medianas estatisticamente diferentes</td>\n",
       "    </tr>\n",
       "  </tbody>\n",
       "</table>\n",
       "</div>"
      ],
      "text/plain": [
       "              Fem.     Masc. Estat. Mann-Whitney             pValor  \\\n",
       "Amarela  10,458.06 10,981.41           9362086.5  0.01 > 0.00006...   \n",
       "Branca    7,574.57  8,607.56       10670870643.0  0.01 > 0.00000...   \n",
       "Indigena  7,656.10  8,304.28             98931.5  0.01 > 0.68519...   \n",
       "Parda     5,287.46  6,370.39        1488936814.0  0.01 > 0.00000...   \n",
       "Preta     5,200.74  6,441.48          53678310.0  0.01 > 0.00000...   \n",
       "\n",
       "                              Resultado Estat.  \n",
       "Amarela   Medianas estatisticamente diferentes  \n",
       "Branca    Medianas estatisticamente diferentes  \n",
       "Indigena      Medianas estatisticamente iguais  \n",
       "Parda     Medianas estatisticamente diferentes  \n",
       "Preta     Medianas estatisticamente diferentes  "
      ]
     },
     "execution_count": 19,
     "metadata": {},
     "output_type": "execute_result"
    }
   ],
   "source": [
    "TESTE_HIP_2021 = pd.DataFrame(columns = ['Estat. Mann-Whitney', 'pValor', 'Resultado Estat.'])\n",
    "\n",
    "for raca in raca_2021:\n",
    "    df1 = RAIS_GERAL_2021.query(\"Sexo == 'Masc.'\").replace(raca_2021).query(\"Raça == '{}'\".format(raca_2021[raca])).Remuneração\n",
    "    df2 = RAIS_GERAL_2021.query(\"Sexo == 'Fem.'\").replace(raca_2021).query(\"Raça == '{}'\".format(raca_2021[raca])).Remuneração\n",
    "\n",
    "    mean1 = df1.median()\n",
    "    mean2 = df2.median()\n",
    "\n",
    "    if mean1 < mean2:\n",
    "        stat, p, result= teste_hipotese(df1, df2, nivel_confianca)\n",
    "    else:\n",
    "        stat, p, result = teste_hipotese(df2, df1, nivel_confianca)\n",
    "    \n",
    "    TESTE_HIP_2021.loc[raca_2021[raca]] = [str(stat), '0.01 > {:.5f}...'.format(p), result]\n",
    "\n",
    "RAIS_GERAL_2009_HIP = pd.merge(RAIS_GERAL_2021_MEDIA, TESTE_HIP_2021, left_index=True, right_index=True)\n",
    "RAIS_GERAL_2009_HIP.drop('Diferença Salarial', inplace=True, axis=1)\n",
    "RAIS_GERAL_2009_HIP.drop('Ano', inplace=True, axis=1)\n",
    "\n",
    "RAIS_GERAL_2009_HIP.head(7)"
   ]
  }
 ],
 "metadata": {
  "kernelspec": {
   "display_name": "Python 3",
   "language": "python",
   "name": "python3"
  },
  "language_info": {
   "codemirror_mode": {
    "name": "ipython",
    "version": 3
   },
   "file_extension": ".py",
   "mimetype": "text/x-python",
   "name": "python",
   "nbconvert_exporter": "python",
   "pygments_lexer": "ipython3",
   "version": "3.11.6"
  },
  "orig_nbformat": 4
 },
 "nbformat": 4,
 "nbformat_minor": 2
}
