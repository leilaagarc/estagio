{
 "cells": [
  {
   "cell_type": "markdown",
   "metadata": {},
   "source": [
    "# Análise da diferença salarial para trabalhadores de TI conforme a escolaridade de cada indivíduo.\n",
    "\n",
    "Aqui é realizado as análises de quantidade de pessoas e diferença salarial entre homens e mulheres\n",
    "com funções trabalhistas de TI distribuídos em qualquer setor produtivo no Brasil, \n",
    "conforme a escolaridade de cada indivíduo em 2021."
   ]
  },
  {
   "cell_type": "markdown",
   "metadata": {},
   "source": [
    "## Etapas iniciais para realização das análises:\n",
    "\n",
    "### Imports necessários para realização dos processamentos e análises:"
   ]
  },
  {
   "cell_type": "code",
   "execution_count": 1,
   "metadata": {},
   "outputs": [],
   "source": [
    "import pandas as pd\n",
    "import matplotlib.pyplot as plt\n",
    "import matplotlib.patches as mpatches\n",
    "import seaborn as sns\n",
    "import numpy as np\n",
    "\n",
    "# Opções gerais necessárias:\n",
    "pd.options.display.float_format = \"{:,.2f}\".format"
   ]
  },
  {
   "cell_type": "markdown",
   "metadata": {},
   "source": [
    "### Variáveis inicias importantes utilizadas durante a realização dos processamentos e análises:"
   ]
  },
  {
   "cell_type": "code",
   "execution_count": 3,
   "metadata": {},
   "outputs": [],
   "source": [
    "# Criando indices dos sexos:\n",
    "sexo = {1: 'Masc.', 2: 'Fem.'}\n",
    "\n",
    "# Criando indices das raças:\n",
    "escol = {5: 'Fundamental Completo', 7: 'Médio Completo', 9: 'Superior Completo', 10: 'Mestrado', 11: 'Doutorado'}\n",
    "\n",
    "# Variável com o nível de confiança a ser considerado e utilizado:\n",
    "nivel_confianca = 0.01\n",
    "\n",
    "# Montagem da paleta de cores utilizadas:\n",
    "pal = sns.color_palette(\"pastel\")\n",
    "\n",
    "# Definição das cores para cada sexo (masc: verde pastel, fem: laranja pastel)\n",
    "color_masc = pal[2]\n",
    "color_fem = pal[1]\n",
    "\n",
    "# Faixas de idades: 18 - 24 # 25 - 30 # 31 - 40 # 41 - 50 # 51 - 90\n",
    "replace_values_faixas = {(18, 19, 20, 21, 22, 23, 24): '18 - 24',\n",
    "                  (25, 26, 27, 28, 29, 30): '25 - 30',\n",
    "                  (31, 32, 33, 34, 35, 36, 37, 38, 39, 40): '31 - 40',\n",
    "                  (41, 42, 43, 44, 45, 46, 47, 48, 49, 50): '41 - 50',\n",
    "                  (51, 52, 53, 54, 55, 56, 57, 58, 59, 60, 61, 62, 63, 64, 65, 66, 67, 68, 69, 70, \n",
    "                   71, 72, 73, 74, 75, 76, 77, 78, 79, 80, 81, 82, 83, 84, 85, 86, 87, 88, 89, 90): '51 - 90'}"
   ]
  },
  {
   "cell_type": "markdown",
   "metadata": {},
   "source": [
    "### Etapa de leitura dos dados das tabelas em CSV:"
   ]
  },
  {
   "cell_type": "code",
   "execution_count": 4,
   "metadata": {},
   "outputs": [],
   "source": [
    "#Leitura da tabela de dados gerais:\n",
    "RAIS_GERAL_2021 = pd.read_csv(\"C:/Users/leila/estagio/data/raw/DATA_RAIS_GERAL_2021.csv\", sep = \";\", encoding = 'utf-8', skipinitialspace = True)\n",
    "\n",
    "# Renomeando as colunas:\n",
    "RAIS_GERAL_2021.rename(columns = {'CBO Ocupação 2002':'CBO', 'CNAE 2.0 Classe':'CNAE', 'Escolaridade após 2005':'Escolaridade',\n",
    "                            'Raça Cor':'Raça', 'Vl Remun Dezembro Nom':'Remuneração', 'Sexo Trabalhador':'Sexo'}, inplace = True)"
   ]
  },
  {
   "cell_type": "markdown",
   "metadata": {},
   "source": [
    "### Correção da coluna de escolaridade para utilização correta:"
   ]
  },
  {
   "cell_type": "code",
   "execution_count": 5,
   "metadata": {},
   "outputs": [],
   "source": [
    "# Retirando dados referentes a indivíduos com menos de 18:\n",
    "RAIS_GERAL_2021 = RAIS_GERAL_2021[RAIS_GERAL_2021['Idade'] >= 18]\n",
    "\n",
    "# Retirando dados referentes a indivíduos com mais de 90:\n",
    "RAIS_GERAL_2021 = RAIS_GERAL_2021[RAIS_GERAL_2021['Idade'] <= 90]"
   ]
  },
  {
   "cell_type": "code",
   "execution_count": 6,
   "metadata": {},
   "outputs": [],
   "source": [
    "# Substituição dos valores de cada idade pelas faixas definidas:\n",
    "RAIS_GERAL_2021['Idade'].replace(replace_values_faixas, inplace = True)"
   ]
  },
  {
   "cell_type": "markdown",
   "metadata": {},
   "source": [
    "### Correção da inflação do período analisado até o atual das remunerações pelo fator de correção INPC (IBGE):"
   ]
  },
  {
   "cell_type": "code",
   "execution_count": 7,
   "metadata": {},
   "outputs": [],
   "source": [
    "# Foi utilizado o Índice Nacional de Preços ao Consumidor (INPC - IBGE).\n",
    "\n",
    "# Índice de correção de inflação para o período de 12/2021\n",
    "# até 09/2023 (fator de correção mais recente no último processamento dos dados).\n",
    "fator_correcao_inflacao_2021 = 1.01122970\n",
    "\n",
    "RAIS_GERAL_2021[\"Remuneração\"] = RAIS_GERAL_2021[\"Remuneração\"] * fator_correcao_inflacao_2021"
   ]
  },
  {
   "cell_type": "markdown",
   "metadata": {},
   "source": [
    "### Exibição da tabela geral:"
   ]
  },
  {
   "cell_type": "code",
   "execution_count": 8,
   "metadata": {},
   "outputs": [
    {
     "data": {
      "text/html": [
       "<div>\n",
       "<style scoped>\n",
       "    .dataframe tbody tr th:only-of-type {\n",
       "        vertical-align: middle;\n",
       "    }\n",
       "\n",
       "    .dataframe tbody tr th {\n",
       "        vertical-align: top;\n",
       "    }\n",
       "\n",
       "    .dataframe thead th {\n",
       "        text-align: right;\n",
       "    }\n",
       "</style>\n",
       "<table border=\"1\" class=\"dataframe\">\n",
       "  <thead>\n",
       "    <tr style=\"text-align: right;\">\n",
       "      <th></th>\n",
       "      <th>UF</th>\n",
       "      <th>CBO</th>\n",
       "      <th>CNAE</th>\n",
       "      <th>Escolaridade</th>\n",
       "      <th>Idade</th>\n",
       "      <th>Raça</th>\n",
       "      <th>Remuneração</th>\n",
       "      <th>Sexo</th>\n",
       "    </tr>\n",
       "  </thead>\n",
       "  <tbody>\n",
       "    <tr>\n",
       "      <th>0</th>\n",
       "      <td>MS</td>\n",
       "      <td>317210</td>\n",
       "      <td>85201</td>\n",
       "      <td>1</td>\n",
       "      <td>18 - 24</td>\n",
       "      <td>8</td>\n",
       "      <td>1,372.23</td>\n",
       "      <td>1</td>\n",
       "    </tr>\n",
       "    <tr>\n",
       "      <th>1</th>\n",
       "      <td>MS</td>\n",
       "      <td>317210</td>\n",
       "      <td>85201</td>\n",
       "      <td>1</td>\n",
       "      <td>18 - 24</td>\n",
       "      <td>9</td>\n",
       "      <td>1,338.76</td>\n",
       "      <td>1</td>\n",
       "    </tr>\n",
       "    <tr>\n",
       "      <th>2</th>\n",
       "      <td>MS</td>\n",
       "      <td>317210</td>\n",
       "      <td>85201</td>\n",
       "      <td>1</td>\n",
       "      <td>18 - 24</td>\n",
       "      <td>9</td>\n",
       "      <td>1,405.69</td>\n",
       "      <td>1</td>\n",
       "    </tr>\n",
       "    <tr>\n",
       "      <th>3</th>\n",
       "      <td>MS</td>\n",
       "      <td>212405</td>\n",
       "      <td>72100</td>\n",
       "      <td>1</td>\n",
       "      <td>18 - 24</td>\n",
       "      <td>8</td>\n",
       "      <td>4,550.53</td>\n",
       "      <td>1</td>\n",
       "    </tr>\n",
       "    <tr>\n",
       "      <th>4</th>\n",
       "      <td>MS</td>\n",
       "      <td>317205</td>\n",
       "      <td>47717</td>\n",
       "      <td>1</td>\n",
       "      <td>25 - 30</td>\n",
       "      <td>8</td>\n",
       "      <td>5,256.67</td>\n",
       "      <td>1</td>\n",
       "    </tr>\n",
       "  </tbody>\n",
       "</table>\n",
       "</div>"
      ],
      "text/plain": [
       "   UF     CBO   CNAE  Escolaridade    Idade  Raça  Remuneração  Sexo\n",
       "0  MS  317210  85201             1  18 - 24     8     1,372.23     1\n",
       "1  MS  317210  85201             1  18 - 24     9     1,338.76     1\n",
       "2  MS  317210  85201             1  18 - 24     9     1,405.69     1\n",
       "3  MS  212405  72100             1  18 - 24     8     4,550.53     1\n",
       "4  MS  317205  47717             1  25 - 30     8     5,256.67     1"
      ]
     },
     "execution_count": 8,
     "metadata": {},
     "output_type": "execute_result"
    }
   ],
   "source": [
    "# Exibindo os cinco primeiros dados da tabela:\n",
    "RAIS_GERAL_2021.head()"
   ]
  },
  {
   "cell_type": "markdown",
   "metadata": {},
   "source": [
    "## Análise da frequência (quantidade de pessoas) dos dados entre homens e mulheres distribuídos conforme a escolaridade de cada indivíduo:\n",
    "\n",
    "### Criação das tabelas para relatório e tabela para formação do gráfico:"
   ]
  },
  {
   "cell_type": "code",
   "execution_count": 9,
   "metadata": {},
   "outputs": [
    {
     "data": {
      "text/html": [
       "<div>\n",
       "<style scoped>\n",
       "    .dataframe tbody tr th:only-of-type {\n",
       "        vertical-align: middle;\n",
       "    }\n",
       "\n",
       "    .dataframe tbody tr th {\n",
       "        vertical-align: top;\n",
       "    }\n",
       "\n",
       "    .dataframe thead th {\n",
       "        text-align: right;\n",
       "    }\n",
       "</style>\n",
       "<table border=\"1\" class=\"dataframe\">\n",
       "  <thead>\n",
       "    <tr style=\"text-align: right;\">\n",
       "      <th>Sexo</th>\n",
       "      <th>Fem.</th>\n",
       "      <th>% Fem.</th>\n",
       "      <th>Masc.</th>\n",
       "      <th>% Masc.</th>\n",
       "    </tr>\n",
       "    <tr>\n",
       "      <th>Idade</th>\n",
       "      <th></th>\n",
       "      <th></th>\n",
       "      <th></th>\n",
       "      <th></th>\n",
       "    </tr>\n",
       "  </thead>\n",
       "  <tbody>\n",
       "    <tr>\n",
       "      <th>18 - 24</th>\n",
       "      <td>21003</td>\n",
       "      <td>21.22</td>\n",
       "      <td>77972</td>\n",
       "      <td>78.78</td>\n",
       "    </tr>\n",
       "    <tr>\n",
       "      <th>25 - 30</th>\n",
       "      <td>36600</td>\n",
       "      <td>21.77</td>\n",
       "      <td>131500</td>\n",
       "      <td>78.23</td>\n",
       "    </tr>\n",
       "    <tr>\n",
       "      <th>31 - 40</th>\n",
       "      <td>47252</td>\n",
       "      <td>19.20</td>\n",
       "      <td>198887</td>\n",
       "      <td>80.80</td>\n",
       "    </tr>\n",
       "    <tr>\n",
       "      <th>41 - 50</th>\n",
       "      <td>24414</td>\n",
       "      <td>20.90</td>\n",
       "      <td>92398</td>\n",
       "      <td>79.10</td>\n",
       "    </tr>\n",
       "    <tr>\n",
       "      <th>51 - 90</th>\n",
       "      <td>10311</td>\n",
       "      <td>21.02</td>\n",
       "      <td>38752</td>\n",
       "      <td>78.98</td>\n",
       "    </tr>\n",
       "  </tbody>\n",
       "</table>\n",
       "</div>"
      ],
      "text/plain": [
       "Sexo      Fem.  % Fem.   Masc.  % Masc.\n",
       "Idade                                  \n",
       "18 - 24  21003   21.22   77972    78.78\n",
       "25 - 30  36600   21.77  131500    78.23\n",
       "31 - 40  47252   19.20  198887    80.80\n",
       "41 - 50  24414   20.90   92398    79.10\n",
       "51 - 90  10311   21.02   38752    78.98"
      ]
     },
     "execution_count": 9,
     "metadata": {},
     "output_type": "execute_result"
    }
   ],
   "source": [
    "# Tabela principal para quantidade em 2021:\n",
    "RAIS_GERAL_2021_QNT = pd.crosstab(RAIS_GERAL_2021[\"Idade\"], RAIS_GERAL_2021[\"Sexo\"].replace(sexo))\n",
    "RAIS_GERAL_2021_QNT.insert(1, \"% Fem.\", RAIS_GERAL_2021_QNT[\"Fem.\"] / (RAIS_GERAL_2021_QNT[\"Fem.\"] + RAIS_GERAL_2021_QNT[\"Masc.\"]) * 100)\n",
    "RAIS_GERAL_2021_QNT.insert(3, \"% Masc.\", RAIS_GERAL_2021_QNT[\"Masc.\"] / (RAIS_GERAL_2021_QNT[\"Fem.\"] + RAIS_GERAL_2021_QNT[\"Masc.\"]) * 100)\n",
    "\n",
    "RAIS_GERAL_2021_QNT"
   ]
  },
  {
   "cell_type": "code",
   "execution_count": 10,
   "metadata": {},
   "outputs": [],
   "source": [
    "# Tabela para gráfico da quantidade:\n",
    "RAIS_GERAL_2021_QNT[\"Total\"] = RAIS_GERAL_2021_QNT[\"% Masc.\"] + RAIS_GERAL_2021_QNT[\"% Fem.\"]\n",
    "RAIS_GERAL_2021_QNT[\"Ano\"] = \"2021\"\n",
    "\n",
    "# Junção das tabelas anteriores em uma para geração do gráfico:\n",
    "RAIS_GERAL_QNT_GRAF = pd.concat([RAIS_GERAL_2021_QNT]).reset_index()"
   ]
  },
  {
   "cell_type": "markdown",
   "metadata": {},
   "source": [
    "### Criação do gráfico com os dados referentes a quantidade:"
   ]
  },
  {
   "cell_type": "code",
   "execution_count": 12,
   "metadata": {},
   "outputs": [
    {
     "name": "stderr",
     "output_type": "stream",
     "text": [
      "C:\\Users\\leila\\AppData\\Local\\Packages\\PythonSoftwareFoundation.Python.3.11_qbz5n2kfra8p0\\LocalCache\\local-packages\\Python311\\site-packages\\seaborn\\_oldcore.py:1498: FutureWarning: is_categorical_dtype is deprecated and will be removed in a future version. Use isinstance(dtype, pd.CategoricalDtype) instead\n",
      "  if pd.api.types.is_categorical_dtype(vector):\n",
      "C:\\Users\\leila\\AppData\\Local\\Packages\\PythonSoftwareFoundation.Python.3.11_qbz5n2kfra8p0\\LocalCache\\local-packages\\Python311\\site-packages\\seaborn\\_oldcore.py:1498: FutureWarning: is_categorical_dtype is deprecated and will be removed in a future version. Use isinstance(dtype, pd.CategoricalDtype) instead\n",
      "  if pd.api.types.is_categorical_dtype(vector):\n",
      "C:\\Users\\leila\\AppData\\Local\\Packages\\PythonSoftwareFoundation.Python.3.11_qbz5n2kfra8p0\\LocalCache\\local-packages\\Python311\\site-packages\\seaborn\\_oldcore.py:1498: FutureWarning: is_categorical_dtype is deprecated and will be removed in a future version. Use isinstance(dtype, pd.CategoricalDtype) instead\n",
      "  if pd.api.types.is_categorical_dtype(vector):\n",
      "C:\\Users\\leila\\AppData\\Local\\Packages\\PythonSoftwareFoundation.Python.3.11_qbz5n2kfra8p0\\LocalCache\\local-packages\\Python311\\site-packages\\seaborn\\_oldcore.py:1498: FutureWarning: is_categorical_dtype is deprecated and will be removed in a future version. Use isinstance(dtype, pd.CategoricalDtype) instead\n",
      "  if pd.api.types.is_categorical_dtype(vector):\n",
      "C:\\Users\\leila\\AppData\\Local\\Packages\\PythonSoftwareFoundation.Python.3.11_qbz5n2kfra8p0\\LocalCache\\local-packages\\Python311\\site-packages\\seaborn\\_oldcore.py:1498: FutureWarning: is_categorical_dtype is deprecated and will be removed in a future version. Use isinstance(dtype, pd.CategoricalDtype) instead\n",
      "  if pd.api.types.is_categorical_dtype(vector):\n",
      "C:\\Users\\leila\\AppData\\Local\\Packages\\PythonSoftwareFoundation.Python.3.11_qbz5n2kfra8p0\\LocalCache\\local-packages\\Python311\\site-packages\\seaborn\\_oldcore.py:1498: FutureWarning: is_categorical_dtype is deprecated and will be removed in a future version. Use isinstance(dtype, pd.CategoricalDtype) instead\n",
      "  if pd.api.types.is_categorical_dtype(vector):\n",
      "C:\\Users\\leila\\AppData\\Local\\Packages\\PythonSoftwareFoundation.Python.3.11_qbz5n2kfra8p0\\LocalCache\\local-packages\\Python311\\site-packages\\seaborn\\_oldcore.py:1498: FutureWarning: is_categorical_dtype is deprecated and will be removed in a future version. Use isinstance(dtype, pd.CategoricalDtype) instead\n",
      "  if pd.api.types.is_categorical_dtype(vector):\n",
      "C:\\Users\\leila\\AppData\\Local\\Packages\\PythonSoftwareFoundation.Python.3.11_qbz5n2kfra8p0\\LocalCache\\local-packages\\Python311\\site-packages\\seaborn\\_oldcore.py:1498: FutureWarning: is_categorical_dtype is deprecated and will be removed in a future version. Use isinstance(dtype, pd.CategoricalDtype) instead\n",
      "  if pd.api.types.is_categorical_dtype(vector):\n"
     ]
    },
    {
     "data": {
      "image/png": "[encoded data removed]",
      "text/plain": [
       "<Figure size 1200x800 with 1 Axes>"
      ]
     },
     "metadata": {},
     "output_type": "display_data"
    }
   ],
   "source": [
    "# Montagem inicial da imagem do gráfico:\n",
    "plt.figure(figsize=(12, 8))\n",
    "\n",
    "# Configuração da grid da imagem:\n",
    "sns.set(style=\"whitegrid\")\n",
    "\n",
    "# Montagem da paleta de cores utilizadas:\n",
    "pal = sns.color_palette(\"pastel\")\n",
    "\n",
    "# Criação da primeira barra, referente ao total de 100% que fica atrás pela próxima barra:\n",
    "bar1 = sns.barplot(x=\"Idade\", y=\"Total\", hue=\"Ano\", data=RAIS_GERAL_QNT_GRAF, palette={\"2021\": color_masc})\n",
    "\n",
    "# Captura da quantidade de barras existentes até o momento:\n",
    "patches = bar1.patches\n",
    "\n",
    "# Escrita da porcentagem para cada barra existente até o momento (porcentagem dos homens):\n",
    "for i in range(len(patches)):\n",
    "    x = patches[i].get_x() + patches[i].get_width()/2\n",
    "    y = patches[i].get_height()/2\n",
    "    bar1.annotate('{:.1f}%'.format(RAIS_GERAL_QNT_GRAF[\"% Masc.\"][i]), (x, y), ha='center')\n",
    "   \n",
    "\n",
    "# Criação da segunda barra, referente a porcentagem das mulheres:\n",
    "bar2 = sns.barplot(x=\"Idade\", y=\"% Fem.\", hue=\"Ano\", data=RAIS_GERAL_QNT_GRAF, palette={\"2021\": color_fem})\n",
    "\n",
    "# Finalização de configurações de exibição do gráfico:\n",
    "top_bar = mpatches.Patch(label='% Mulheres', color=color_fem)\n",
    "bottom_bar = mpatches.Patch(label='% Homens', color=color_masc)\n",
    "plt.legend(handles=[top_bar, bottom_bar], loc='center', bbox_to_anchor=(.45, .8, .1, .1))\n",
    "\n",
    "# Adicionar rótulos com as porcentagens femininas nas barras\n",
    "for i in bar2.patches:\n",
    "    width = i.get_width()\n",
    "    height = i.get_height()\n",
    "    x, y = i.get_xy()\n",
    "    if height < 100.0:\n",
    "        bar2.annotate(f'{height:.1f}%', (x + width/2, y + height/2), ha='center')\n",
    "\n",
    "plt.ylabel('')  # Remover o título do eixo y\n",
    "\n",
    "plt.savefig(\"C:/Users/leila/estagio/data/figures/svg/qnt_sexo_idade.svg\")"
   ]
  },
  {
   "cell_type": "markdown",
   "metadata": {},
   "source": [
    "## Análise das médias salariais e diferenças:\n",
    "\n",
    "### Distribuição da remuneração para cada sexo cruzado pela escolaridade:"
   ]
  },
  {
   "cell_type": "code",
   "execution_count": 12,
   "metadata": {},
   "outputs": [
    {
     "name": "stderr",
     "output_type": "stream",
     "text": [
      "C:\\Users\\leila\\AppData\\Local\\Packages\\PythonSoftwareFoundation.Python.3.11_qbz5n2kfra8p0\\LocalCache\\local-packages\\Python311\\site-packages\\seaborn\\_oldcore.py:1498: FutureWarning: is_categorical_dtype is deprecated and will be removed in a future version. Use isinstance(dtype, pd.CategoricalDtype) instead\n",
      "  if pd.api.types.is_categorical_dtype(vector):\n",
      "C:\\Users\\leila\\AppData\\Local\\Packages\\PythonSoftwareFoundation.Python.3.11_qbz5n2kfra8p0\\LocalCache\\local-packages\\Python311\\site-packages\\seaborn\\_oldcore.py:1498: FutureWarning: is_categorical_dtype is deprecated and will be removed in a future version. Use isinstance(dtype, pd.CategoricalDtype) instead\n",
      "  if pd.api.types.is_categorical_dtype(vector):\n",
      "C:\\Users\\leila\\AppData\\Local\\Packages\\PythonSoftwareFoundation.Python.3.11_qbz5n2kfra8p0\\LocalCache\\local-packages\\Python311\\site-packages\\seaborn\\_oldcore.py:1498: FutureWarning: is_categorical_dtype is deprecated and will be removed in a future version. Use isinstance(dtype, pd.CategoricalDtype) instead\n",
      "  if pd.api.types.is_categorical_dtype(vector):\n"
     ]
    },
    {
     "data": {
      "image/png": "[encoded data removed]",
      "text/plain": [
       "<Figure size 1400x800 with 1 Axes>"
      ]
     },
     "metadata": {},
     "output_type": "display_data"
    }
   ],
   "source": [
    "RAIS_GERAL_2021_BOX = RAIS_GERAL_2021.copy()\n",
    "RAIS_GERAL_2021_BOX[\"Sexo\"].replace(sexo, inplace = True)\n",
    "\n",
    "box = sns.boxplot(x = 'Remuneração', y = 'Idade', hue = 'Sexo', data = RAIS_GERAL_2021_BOX, orient = 'h', showmeans=True, meanprops={\"marker\":\"o\",\n",
    "                       \"markerfacecolor\":\"white\", \"markeredgecolor\":\"black\", \"markersize\":\"5\"}, order = replace_values_faixas.values(),\n",
    "                        palette = {\"Masc.\": color_masc, \"Fem.\": color_fem})\n",
    "box.figure.set_size_inches(14, 8)\n",
    "box.figure.savefig(\"C:/Users/leila/estagio/data/figures/png/boxplot_sexo_idade_2021.png\", dpi = 300)"
   ]
  },
  {
   "cell_type": "markdown",
   "metadata": {},
   "source": [
    "### Criação das tabelas com as diferenças salarias e da tabela para geração do gráfico:"
   ]
  },
  {
   "cell_type": "code",
   "execution_count": 13,
   "metadata": {},
   "outputs": [
    {
     "data": {
      "text/html": [
       "<div>\n",
       "<style scoped>\n",
       "    .dataframe tbody tr th:only-of-type {\n",
       "        vertical-align: middle;\n",
       "    }\n",
       "\n",
       "    .dataframe tbody tr th {\n",
       "        vertical-align: top;\n",
       "    }\n",
       "\n",
       "    .dataframe thead th {\n",
       "        text-align: right;\n",
       "    }\n",
       "</style>\n",
       "<table border=\"1\" class=\"dataframe\">\n",
       "  <thead>\n",
       "    <tr style=\"text-align: right;\">\n",
       "      <th>Sexo</th>\n",
       "      <th>Fem.</th>\n",
       "      <th>Masc.</th>\n",
       "      <th>Diferença Salarial</th>\n",
       "    </tr>\n",
       "    <tr>\n",
       "      <th>Idade</th>\n",
       "      <th></th>\n",
       "      <th></th>\n",
       "      <th></th>\n",
       "    </tr>\n",
       "  </thead>\n",
       "  <tbody>\n",
       "    <tr>\n",
       "      <th>18 - 24</th>\n",
       "      <td>3,034.37</td>\n",
       "      <td>3,432.68</td>\n",
       "      <td>-11.60</td>\n",
       "    </tr>\n",
       "    <tr>\n",
       "      <th>25 - 30</th>\n",
       "      <td>4,972.12</td>\n",
       "      <td>5,645.87</td>\n",
       "      <td>-11.93</td>\n",
       "    </tr>\n",
       "    <tr>\n",
       "      <th>31 - 40</th>\n",
       "      <td>7,322.61</td>\n",
       "      <td>8,392.67</td>\n",
       "      <td>-12.75</td>\n",
       "    </tr>\n",
       "    <tr>\n",
       "      <th>41 - 50</th>\n",
       "      <td>10,560.33</td>\n",
       "      <td>11,134.42</td>\n",
       "      <td>-5.16</td>\n",
       "    </tr>\n",
       "    <tr>\n",
       "      <th>51 - 90</th>\n",
       "      <td>12,550.79</td>\n",
       "      <td>12,882.11</td>\n",
       "      <td>-2.57</td>\n",
       "    </tr>\n",
       "  </tbody>\n",
       "</table>\n",
       "</div>"
      ],
      "text/plain": [
       "Sexo         Fem.     Masc.  Diferença Salarial\n",
       "Idade                                          \n",
       "18 - 24  3,034.37  3,432.68              -11.60\n",
       "25 - 30  4,972.12  5,645.87              -11.93\n",
       "31 - 40  7,322.61  8,392.67              -12.75\n",
       "41 - 50 10,560.33 11,134.42               -5.16\n",
       "51 - 90 12,550.79 12,882.11               -2.57"
      ]
     },
     "execution_count": 13,
     "metadata": {},
     "output_type": "execute_result"
    }
   ],
   "source": [
    "# Tabela principal para média e diferença salarial em 2021:\n",
    "RAIS_GERAL_2021_MEDIA = pd.crosstab(RAIS_GERAL_2021[\"Idade\"], RAIS_GERAL_2021[\"Sexo\"].replace(sexo), values = RAIS_GERAL_2021.Remuneração, aggfunc = 'mean')\n",
    "RAIS_GERAL_2021_MEDIA.insert(2, \"Diferença Salarial\", ((RAIS_GERAL_2021_MEDIA[\"Fem.\"] - RAIS_GERAL_2021_MEDIA[\"Masc.\"]) / RAIS_GERAL_2021_MEDIA[\"Masc.\"]) * 100)\n",
    "\n",
    "RAIS_GERAL_2021_MEDIA.head()"
   ]
  },
  {
   "cell_type": "code",
   "execution_count": 14,
   "metadata": {},
   "outputs": [],
   "source": [
    "RAIS_GERAL_2021_MEDIA[\"Ano\"] = \"2021\"\n",
    "\n",
    "RAIS_GERAL_MEDIA_GRAF = pd.concat([RAIS_GERAL_2021_MEDIA]).reset_index()"
   ]
  },
  {
   "cell_type": "code",
   "execution_count": 15,
   "metadata": {},
   "outputs": [
    {
     "name": "stderr",
     "output_type": "stream",
     "text": [
      "C:\\Users\\leila\\AppData\\Local\\Packages\\PythonSoftwareFoundation.Python.3.11_qbz5n2kfra8p0\\LocalCache\\local-packages\\Python311\\site-packages\\seaborn\\_oldcore.py:1498: FutureWarning: is_categorical_dtype is deprecated and will be removed in a future version. Use isinstance(dtype, pd.CategoricalDtype) instead\n",
      "  if pd.api.types.is_categorical_dtype(vector):\n",
      "C:\\Users\\leila\\AppData\\Local\\Packages\\PythonSoftwareFoundation.Python.3.11_qbz5n2kfra8p0\\LocalCache\\local-packages\\Python311\\site-packages\\seaborn\\_oldcore.py:1498: FutureWarning: is_categorical_dtype is deprecated and will be removed in a future version. Use isinstance(dtype, pd.CategoricalDtype) instead\n",
      "  if pd.api.types.is_categorical_dtype(vector):\n",
      "C:\\Users\\leila\\AppData\\Local\\Packages\\PythonSoftwareFoundation.Python.3.11_qbz5n2kfra8p0\\LocalCache\\local-packages\\Python311\\site-packages\\seaborn\\_oldcore.py:1498: FutureWarning: is_categorical_dtype is deprecated and will be removed in a future version. Use isinstance(dtype, pd.CategoricalDtype) instead\n",
      "  if pd.api.types.is_categorical_dtype(vector):\n",
      "C:\\Users\\leila\\AppData\\Local\\Packages\\PythonSoftwareFoundation.Python.3.11_qbz5n2kfra8p0\\LocalCache\\local-packages\\Python311\\site-packages\\seaborn\\_oldcore.py:1498: FutureWarning: is_categorical_dtype is deprecated and will be removed in a future version. Use isinstance(dtype, pd.CategoricalDtype) instead\n",
      "  if pd.api.types.is_categorical_dtype(vector):\n"
     ]
    },
    {
     "data": {
      "image/png": "[encoded data removed]",
      "text/plain": [
       "<Figure size 1300x1000 with 1 Axes>"
      ]
     },
     "metadata": {},
     "output_type": "display_data"
    }
   ],
   "source": [
    "# Criação do gráfico inicial:\n",
    "plt.figure(figsize = (13, 10))\n",
    "\n",
    "# Configuração do grid do gráfico:\n",
    "sns.set(style = \"whitegrid\")\n",
    "\n",
    "# Criação da barra referente as diferenças salarias:\n",
    "bar = sns.barplot(x = \"Idade\", y = \"Diferença Salarial\", hue = \"Ano\", data = RAIS_GERAL_MEDIA_GRAF, palette = {\"2021\": color_fem,\"2021\": color_masc})\n",
    "\n",
    "# Captura da quantidade de barras existentes:\n",
    "patches = bar.patches\n",
    "\n",
    "# Prenchimento das porcentagens das diferenças salariais em cada barra:\n",
    "for i in range(len(patches)):\n",
    "    x = patches[i].get_x() + patches[i].get_width()/2\n",
    "    y = patches[i].get_height()/2\n",
    "    bar.annotate('{:.1f}%'.format(RAIS_GERAL_MEDIA_GRAF[\"Diferença Salarial\"][i]), (x, y), ha='center')\n",
    "\n",
    "plt.savefig(\"C:/Users/leila/estagio/data/figures/png/dif_salarial_sexo_idade_media.png\", dpi = 300)"
   ]
  },
  {
   "cell_type": "code",
   "execution_count": 16,
   "metadata": {},
   "outputs": [
    {
     "data": {
      "text/html": [
       "<div>\n",
       "<style scoped>\n",
       "    .dataframe tbody tr th:only-of-type {\n",
       "        vertical-align: middle;\n",
       "    }\n",
       "\n",
       "    .dataframe tbody tr th {\n",
       "        vertical-align: top;\n",
       "    }\n",
       "\n",
       "    .dataframe thead th {\n",
       "        text-align: right;\n",
       "    }\n",
       "</style>\n",
       "<table border=\"1\" class=\"dataframe\">\n",
       "  <thead>\n",
       "    <tr style=\"text-align: right;\">\n",
       "      <th>Sexo</th>\n",
       "      <th>Fem.</th>\n",
       "      <th>Masc.</th>\n",
       "      <th>Diferença Salarial</th>\n",
       "    </tr>\n",
       "    <tr>\n",
       "      <th>Idade</th>\n",
       "      <th></th>\n",
       "      <th></th>\n",
       "      <th></th>\n",
       "    </tr>\n",
       "  </thead>\n",
       "  <tbody>\n",
       "    <tr>\n",
       "      <th>18 - 24</th>\n",
       "      <td>2,313.46</td>\n",
       "      <td>2,578.64</td>\n",
       "      <td>-10.28</td>\n",
       "    </tr>\n",
       "    <tr>\n",
       "      <th>25 - 30</th>\n",
       "      <td>3,842.67</td>\n",
       "      <td>4,304.97</td>\n",
       "      <td>-10.74</td>\n",
       "    </tr>\n",
       "    <tr>\n",
       "      <th>31 - 40</th>\n",
       "      <td>5,695.57</td>\n",
       "      <td>6,670.33</td>\n",
       "      <td>-14.61</td>\n",
       "    </tr>\n",
       "    <tr>\n",
       "      <th>41 - 50</th>\n",
       "      <td>8,978.25</td>\n",
       "      <td>9,023.38</td>\n",
       "      <td>-0.50</td>\n",
       "    </tr>\n",
       "    <tr>\n",
       "      <th>51 - 90</th>\n",
       "      <td>10,652.69</td>\n",
       "      <td>10,405.51</td>\n",
       "      <td>2.38</td>\n",
       "    </tr>\n",
       "  </tbody>\n",
       "</table>\n",
       "</div>"
      ],
      "text/plain": [
       "Sexo         Fem.     Masc.  Diferença Salarial\n",
       "Idade                                          \n",
       "18 - 24  2,313.46  2,578.64              -10.28\n",
       "25 - 30  3,842.67  4,304.97              -10.74\n",
       "31 - 40  5,695.57  6,670.33              -14.61\n",
       "41 - 50  8,978.25  9,023.38               -0.50\n",
       "51 - 90 10,652.69 10,405.51                2.38"
      ]
     },
     "execution_count": 16,
     "metadata": {},
     "output_type": "execute_result"
    }
   ],
   "source": [
    "# Tabela principal para média e diferença salarial em 2021:\n",
    "RAIS_GERAL_2021_MEDIANA = pd.crosstab(RAIS_GERAL_2021[\"Idade\"], RAIS_GERAL_2021[\"Sexo\"].replace(sexo), values = RAIS_GERAL_2021.Remuneração, aggfunc = 'median')\n",
    "RAIS_GERAL_2021_MEDIANA.insert(2, \"Diferença Salarial\", ((RAIS_GERAL_2021_MEDIANA[\"Fem.\"] - RAIS_GERAL_2021_MEDIANA[\"Masc.\"]) / RAIS_GERAL_2021_MEDIANA[\"Masc.\"]) * 100)\n",
    "\n",
    "RAIS_GERAL_2021_MEDIANA.head()"
   ]
  },
  {
   "cell_type": "code",
   "execution_count": 17,
   "metadata": {},
   "outputs": [],
   "source": [
    "RAIS_GERAL_2021_MEDIANA[\"Ano\"] = \"2021\"\n",
    "\n",
    "RAIS_GERAL_MEDIANA_GRAF = pd.concat([RAIS_GERAL_2021_MEDIANA]).reset_index()"
   ]
  },
  {
   "cell_type": "code",
   "execution_count": 18,
   "metadata": {},
   "outputs": [
    {
     "name": "stderr",
     "output_type": "stream",
     "text": [
      "C:\\Users\\leila\\AppData\\Local\\Packages\\PythonSoftwareFoundation.Python.3.11_qbz5n2kfra8p0\\LocalCache\\local-packages\\Python311\\site-packages\\seaborn\\_oldcore.py:1498: FutureWarning: is_categorical_dtype is deprecated and will be removed in a future version. Use isinstance(dtype, pd.CategoricalDtype) instead\n",
      "  if pd.api.types.is_categorical_dtype(vector):\n",
      "C:\\Users\\leila\\AppData\\Local\\Packages\\PythonSoftwareFoundation.Python.3.11_qbz5n2kfra8p0\\LocalCache\\local-packages\\Python311\\site-packages\\seaborn\\_oldcore.py:1498: FutureWarning: is_categorical_dtype is deprecated and will be removed in a future version. Use isinstance(dtype, pd.CategoricalDtype) instead\n",
      "  if pd.api.types.is_categorical_dtype(vector):\n",
      "C:\\Users\\leila\\AppData\\Local\\Packages\\PythonSoftwareFoundation.Python.3.11_qbz5n2kfra8p0\\LocalCache\\local-packages\\Python311\\site-packages\\seaborn\\_oldcore.py:1498: FutureWarning: is_categorical_dtype is deprecated and will be removed in a future version. Use isinstance(dtype, pd.CategoricalDtype) instead\n",
      "  if pd.api.types.is_categorical_dtype(vector):\n",
      "C:\\Users\\leila\\AppData\\Local\\Packages\\PythonSoftwareFoundation.Python.3.11_qbz5n2kfra8p0\\LocalCache\\local-packages\\Python311\\site-packages\\seaborn\\_oldcore.py:1498: FutureWarning: is_categorical_dtype is deprecated and will be removed in a future version. Use isinstance(dtype, pd.CategoricalDtype) instead\n",
      "  if pd.api.types.is_categorical_dtype(vector):\n"
     ]
    },
    {
     "data": {
      "image/png": "[encoded data removed]",
      "text/plain": [
       "<Figure size 1300x1000 with 1 Axes>"
      ]
     },
     "metadata": {},
     "output_type": "display_data"
    }
   ],
   "source": [
    "# Criação do gráfico inicial:\n",
    "plt.figure(figsize = (13, 10))\n",
    "\n",
    "# Configuração do grid do gráfico:\n",
    "sns.set(style = \"whitegrid\")\n",
    "\n",
    "# Criação da barra referente as diferenças salarias:\n",
    "bar = sns.barplot(x = \"Idade\", y = \"Diferença Salarial\", hue = \"Ano\", data = RAIS_GERAL_MEDIANA_GRAF, palette = {\"2021\": color_fem,\"2021\": color_masc})\n",
    "\n",
    "# Captura da quantidade de barras existentes:\n",
    "patches = bar.patches\n",
    "\n",
    "# Prenchimento das porcentagens das diferenças salariais em cada barra:\n",
    "for i in range(len(patches)):\n",
    "    x = patches[i].get_x() + patches[i].get_width()/2\n",
    "    y = patches[i].get_height()/2\n",
    "    bar.annotate('{:.1f}%'.format(RAIS_GERAL_MEDIANA_GRAF[\"Diferença Salarial\"][i]), (x, y), ha='center')\n",
    "\n",
    "plt.savefig(\"C:/Users/leila/estagio/data/figures/png/dif_salarial_sexo_idade_mediana.png\", dpi = 300)"
   ]
  },
  {
   "cell_type": "markdown",
   "metadata": {},
   "source": [
    "### Teste de hipótese para cada grupo de médias por CBOs:"
   ]
  },
  {
   "cell_type": "code",
   "execution_count": 19,
   "metadata": {},
   "outputs": [],
   "source": [
    "def teste_hipotese(first_data, second_data, confidence_interval):\n",
    "    from scipy.stats import mannwhitneyu \n",
    "    \n",
    "    stat, p_valor = mannwhitneyu(first_data, second_data, alternative = 'less')\n",
    "    \n",
    "    if p_valor <= confidence_interval:\n",
    "        return stat, p_valor, 'Medianas estatisticamente diferentes'\n",
    "    else:\n",
    "        return stat, p_valor, 'Medianas estatisticamente iguais'"
   ]
  },
  {
   "cell_type": "code",
   "execution_count": 20,
   "metadata": {},
   "outputs": [
    {
     "data": {
      "text/html": [
       "<div>\n",
       "<style scoped>\n",
       "    .dataframe tbody tr th:only-of-type {\n",
       "        vertical-align: middle;\n",
       "    }\n",
       "\n",
       "    .dataframe tbody tr th {\n",
       "        vertical-align: top;\n",
       "    }\n",
       "\n",
       "    .dataframe thead th {\n",
       "        text-align: right;\n",
       "    }\n",
       "</style>\n",
       "<table border=\"1\" class=\"dataframe\">\n",
       "  <thead>\n",
       "    <tr style=\"text-align: right;\">\n",
       "      <th></th>\n",
       "      <th>UF</th>\n",
       "      <th>CBO</th>\n",
       "      <th>CNAE</th>\n",
       "      <th>Escolaridade</th>\n",
       "      <th>Idade</th>\n",
       "      <th>Raça</th>\n",
       "      <th>Remuneração</th>\n",
       "      <th>Sexo</th>\n",
       "    </tr>\n",
       "  </thead>\n",
       "  <tbody>\n",
       "    <tr>\n",
       "      <th>0</th>\n",
       "      <td>MS</td>\n",
       "      <td>317210</td>\n",
       "      <td>85201</td>\n",
       "      <td>1</td>\n",
       "      <td>18 - 24</td>\n",
       "      <td>8</td>\n",
       "      <td>1,372.23</td>\n",
       "      <td>1</td>\n",
       "    </tr>\n",
       "    <tr>\n",
       "      <th>1</th>\n",
       "      <td>MS</td>\n",
       "      <td>317210</td>\n",
       "      <td>85201</td>\n",
       "      <td>1</td>\n",
       "      <td>18 - 24</td>\n",
       "      <td>9</td>\n",
       "      <td>1,338.76</td>\n",
       "      <td>1</td>\n",
       "    </tr>\n",
       "    <tr>\n",
       "      <th>2</th>\n",
       "      <td>MS</td>\n",
       "      <td>317210</td>\n",
       "      <td>85201</td>\n",
       "      <td>1</td>\n",
       "      <td>18 - 24</td>\n",
       "      <td>9</td>\n",
       "      <td>1,405.69</td>\n",
       "      <td>1</td>\n",
       "    </tr>\n",
       "    <tr>\n",
       "      <th>3</th>\n",
       "      <td>MS</td>\n",
       "      <td>212405</td>\n",
       "      <td>72100</td>\n",
       "      <td>1</td>\n",
       "      <td>18 - 24</td>\n",
       "      <td>8</td>\n",
       "      <td>4,550.53</td>\n",
       "      <td>1</td>\n",
       "    </tr>\n",
       "    <tr>\n",
       "      <th>4</th>\n",
       "      <td>MS</td>\n",
       "      <td>317205</td>\n",
       "      <td>47717</td>\n",
       "      <td>1</td>\n",
       "      <td>25 - 30</td>\n",
       "      <td>8</td>\n",
       "      <td>5,256.67</td>\n",
       "      <td>1</td>\n",
       "    </tr>\n",
       "    <tr>\n",
       "      <th>...</th>\n",
       "      <td>...</td>\n",
       "      <td>...</td>\n",
       "      <td>...</td>\n",
       "      <td>...</td>\n",
       "      <td>...</td>\n",
       "      <td>...</td>\n",
       "      <td>...</td>\n",
       "      <td>...</td>\n",
       "    </tr>\n",
       "    <tr>\n",
       "      <th>672145</th>\n",
       "      <td>RS</td>\n",
       "      <td>212405</td>\n",
       "      <td>63119</td>\n",
       "      <td>11</td>\n",
       "      <td>41 - 50</td>\n",
       "      <td>2</td>\n",
       "      <td>13,387.92</td>\n",
       "      <td>1</td>\n",
       "    </tr>\n",
       "    <tr>\n",
       "      <th>672146</th>\n",
       "      <td>RS</td>\n",
       "      <td>212420</td>\n",
       "      <td>69206</td>\n",
       "      <td>11</td>\n",
       "      <td>31 - 40</td>\n",
       "      <td>8</td>\n",
       "      <td>3,760.73</td>\n",
       "      <td>1</td>\n",
       "    </tr>\n",
       "    <tr>\n",
       "      <th>672147</th>\n",
       "      <td>RS</td>\n",
       "      <td>317110</td>\n",
       "      <td>62023</td>\n",
       "      <td>11</td>\n",
       "      <td>31 - 40</td>\n",
       "      <td>9</td>\n",
       "      <td>10,743.45</td>\n",
       "      <td>1</td>\n",
       "    </tr>\n",
       "    <tr>\n",
       "      <th>672148</th>\n",
       "      <td>RS</td>\n",
       "      <td>317110</td>\n",
       "      <td>62023</td>\n",
       "      <td>11</td>\n",
       "      <td>31 - 40</td>\n",
       "      <td>9</td>\n",
       "      <td>14,612.01</td>\n",
       "      <td>1</td>\n",
       "    </tr>\n",
       "    <tr>\n",
       "      <th>672149</th>\n",
       "      <td>RS</td>\n",
       "      <td>212320</td>\n",
       "      <td>84116</td>\n",
       "      <td>11</td>\n",
       "      <td>31 - 40</td>\n",
       "      <td>99</td>\n",
       "      <td>11,229.55</td>\n",
       "      <td>1</td>\n",
       "    </tr>\n",
       "  </tbody>\n",
       "</table>\n",
       "<p>539509 rows × 8 columns</p>\n",
       "</div>"
      ],
      "text/plain": [
       "        UF     CBO   CNAE  Escolaridade    Idade  Raça  Remuneração  Sexo\n",
       "0       MS  317210  85201             1  18 - 24     8     1,372.23     1\n",
       "1       MS  317210  85201             1  18 - 24     9     1,338.76     1\n",
       "2       MS  317210  85201             1  18 - 24     9     1,405.69     1\n",
       "3       MS  212405  72100             1  18 - 24     8     4,550.53     1\n",
       "4       MS  317205  47717             1  25 - 30     8     5,256.67     1\n",
       "...     ..     ...    ...           ...      ...   ...          ...   ...\n",
       "672145  RS  212405  63119            11  41 - 50     2    13,387.92     1\n",
       "672146  RS  212420  69206            11  31 - 40     8     3,760.73     1\n",
       "672147  RS  317110  62023            11  31 - 40     9    10,743.45     1\n",
       "672148  RS  317110  62023            11  31 - 40     9    14,612.01     1\n",
       "672149  RS  212320  84116            11  31 - 40    99    11,229.55     1\n",
       "\n",
       "[539509 rows x 8 columns]"
      ]
     },
     "execution_count": 20,
     "metadata": {},
     "output_type": "execute_result"
    }
   ],
   "source": [
    "RAIS_GERAL_2021.query(\"Sexo == 1\")"
   ]
  },
  {
   "cell_type": "code",
   "execution_count": 21,
   "metadata": {},
   "outputs": [
    {
     "data": {
      "text/html": [
       "<div>\n",
       "<style scoped>\n",
       "    .dataframe tbody tr th:only-of-type {\n",
       "        vertical-align: middle;\n",
       "    }\n",
       "\n",
       "    .dataframe tbody tr th {\n",
       "        vertical-align: top;\n",
       "    }\n",
       "\n",
       "    .dataframe thead th {\n",
       "        text-align: right;\n",
       "    }\n",
       "</style>\n",
       "<table border=\"1\" class=\"dataframe\">\n",
       "  <thead>\n",
       "    <tr style=\"text-align: right;\">\n",
       "      <th></th>\n",
       "      <th>Fem.</th>\n",
       "      <th>Masc.</th>\n",
       "      <th>Estat. Mann-Whitney</th>\n",
       "      <th>pValor</th>\n",
       "      <th>Resultado Estat.</th>\n",
       "    </tr>\n",
       "    <tr>\n",
       "      <th>Idade</th>\n",
       "      <th></th>\n",
       "      <th></th>\n",
       "      <th></th>\n",
       "      <th></th>\n",
       "      <th></th>\n",
       "    </tr>\n",
       "  </thead>\n",
       "  <tbody>\n",
       "    <tr>\n",
       "      <th>18 - 24</th>\n",
       "      <td>2,313.46</td>\n",
       "      <td>2,578.64</td>\n",
       "      <td>729917297.5</td>\n",
       "      <td>0.01 &gt; 0.00000...</td>\n",
       "      <td>Medianas estatisticamente diferentes</td>\n",
       "    </tr>\n",
       "    <tr>\n",
       "      <th>25 - 30</th>\n",
       "      <td>3,842.67</td>\n",
       "      <td>4,304.97</td>\n",
       "      <td>2185873649.0</td>\n",
       "      <td>0.01 &gt; 0.00000...</td>\n",
       "      <td>Medianas estatisticamente diferentes</td>\n",
       "    </tr>\n",
       "    <tr>\n",
       "      <th>31 - 40</th>\n",
       "      <td>5,695.57</td>\n",
       "      <td>6,670.33</td>\n",
       "      <td>4205804733.0</td>\n",
       "      <td>0.01 &gt; 0.00000...</td>\n",
       "      <td>Medianas estatisticamente diferentes</td>\n",
       "    </tr>\n",
       "    <tr>\n",
       "      <th>41 - 50</th>\n",
       "      <td>8,978.25</td>\n",
       "      <td>9,023.38</td>\n",
       "      <td>1101966115.0</td>\n",
       "      <td>0.01 &gt; 0.00000...</td>\n",
       "      <td>Medianas estatisticamente diferentes</td>\n",
       "    </tr>\n",
       "    <tr>\n",
       "      <th>51 - 90</th>\n",
       "      <td>10,652.69</td>\n",
       "      <td>10,405.51</td>\n",
       "      <td>200954389.5</td>\n",
       "      <td>0.01 &gt; 0.81968...</td>\n",
       "      <td>Medianas estatisticamente iguais</td>\n",
       "    </tr>\n",
       "  </tbody>\n",
       "</table>\n",
       "</div>"
      ],
      "text/plain": [
       "             Fem.     Masc. Estat. Mann-Whitney             pValor  \\\n",
       "Idade                                                                \n",
       "18 - 24  2,313.46  2,578.64         729917297.5  0.01 > 0.00000...   \n",
       "25 - 30  3,842.67  4,304.97        2185873649.0  0.01 > 0.00000...   \n",
       "31 - 40  5,695.57  6,670.33        4205804733.0  0.01 > 0.00000...   \n",
       "41 - 50  8,978.25  9,023.38        1101966115.0  0.01 > 0.00000...   \n",
       "51 - 90 10,652.69 10,405.51         200954389.5  0.01 > 0.81968...   \n",
       "\n",
       "                             Resultado Estat.  \n",
       "Idade                                          \n",
       "18 - 24  Medianas estatisticamente diferentes  \n",
       "25 - 30  Medianas estatisticamente diferentes  \n",
       "31 - 40  Medianas estatisticamente diferentes  \n",
       "41 - 50  Medianas estatisticamente diferentes  \n",
       "51 - 90      Medianas estatisticamente iguais  "
      ]
     },
     "execution_count": 21,
     "metadata": {},
     "output_type": "execute_result"
    }
   ],
   "source": [
    "TESTE_HIP_2021 = pd.DataFrame(columns = ['Estat. Mann-Whitney', 'pValor', 'Resultado Estat.'])\n",
    "\n",
    "for idade in replace_values_faixas:\n",
    "    df1 = RAIS_GERAL_2021.query(\"Sexo == 1\").query(\"Idade == '{}'\".format(replace_values_faixas[idade])).Remuneração\n",
    "    df2 = RAIS_GERAL_2021.query(\"Sexo == 2\").query(\"Idade == '{}'\".format(replace_values_faixas[idade])).Remuneração\n",
    "    \n",
    "    mean1 = df1.median()\n",
    "    mean2 = df2.median()\n",
    "\n",
    "    if mean1 < mean2:\n",
    "        stat, p, result= teste_hipotese(df1, df2, nivel_confianca)\n",
    "    else:\n",
    "        stat, p, result = teste_hipotese(df2, df1, nivel_confianca)\n",
    "    \n",
    "    TESTE_HIP_2021.loc[replace_values_faixas[idade]] = [str(stat), '0.01 > {:.5f}...'.format(p), result]\n",
    "\n",
    "RAIS_GERAL_2021_HIP = pd.merge(RAIS_GERAL_2021_MEDIANA, TESTE_HIP_2021, left_index=True, right_index=True)\n",
    "RAIS_GERAL_2021_HIP.drop('Diferença Salarial', inplace=True, axis=1)\n",
    "RAIS_GERAL_2021_HIP.drop('Ano', inplace=True, axis=1)\n",
    "\n",
    "RAIS_GERAL_2021_HIP.head()"
   ]
  }
 ],
 "metadata": {
  "kernelspec": {
   "display_name": "Python 3",
   "language": "python",
   "name": "python3"
  },
  "language_info": {
   "codemirror_mode": {
    "name": "ipython",
    "version": 3
   },
   "file_extension": ".py",
   "mimetype": "text/x-python",
   "name": "python",
   "nbconvert_exporter": "python",
   "pygments_lexer": "ipython3",
   "version": "3.11.6"
  },
  "orig_nbformat": 4
 },
 "nbformat": 4,
 "nbformat_minor": 2
}
